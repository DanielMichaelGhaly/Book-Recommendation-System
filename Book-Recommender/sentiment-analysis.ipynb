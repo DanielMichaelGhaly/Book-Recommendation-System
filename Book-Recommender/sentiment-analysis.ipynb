{
 "cells": [
  {
   "cell_type": "code",
   "execution_count": 3,
   "id": "initial_id",
   "metadata": {
    "collapsed": true,
    "ExecuteTime": {
     "end_time": "2025-08-12T04:21:40.327227800Z",
     "start_time": "2025-08-12T04:21:40.204362300Z"
    }
   },
   "outputs": [],
   "source": [
    "import pandas as pd\n",
    "\n",
    "books = pd.read_csv(\"books_with_categories.csv\")"
   ]
  },
  {
   "cell_type": "code",
   "execution_count": 1,
   "outputs": [
    {
     "name": "stderr",
     "output_type": "stream",
     "text": [
      "Xet Storage is enabled for this repo, but the 'hf_xet' package is not installed. Falling back to regular HTTP download. For better performance, install the package with: `pip install huggingface_hub[hf_xet]` or `pip install hf_xet`\n"
     ]
    },
    {
     "data": {
      "text/plain": "pytorch_model.bin:  13%|#2        | 41.9M/329M [00:00<?, ?B/s]",
      "application/vnd.jupyter.widget-view+json": {
       "version_major": 2,
       "version_minor": 0,
       "model_id": "88e845c980ab4ffb9d828a0efbe01932"
      }
     },
     "metadata": {},
     "output_type": "display_data"
    },
    {
     "name": "stderr",
     "output_type": "stream",
     "text": [
      "Error while downloading from https://huggingface.co/j-hartmann/emotion-english-distilroberta-base/resolve/main/pytorch_model.bin: HTTPSConnectionPool(host='cas-bridge.xethub.hf.co', port=443): Read timed out.\n",
      "Trying to resume download...\n",
      "Xet Storage is enabled for this repo, but the 'hf_xet' package is not installed. Falling back to regular HTTP download. For better performance, install the package with: `pip install huggingface_hub[hf_xet]` or `pip install hf_xet`\n"
     ]
    },
    {
     "data": {
      "text/plain": "pytorch_model.bin:  89%|########9 | 294M/329M [00:00<?, ?B/s]",
      "application/vnd.jupyter.widget-view+json": {
       "version_major": 2,
       "version_minor": 0,
       "model_id": "0a25e66163084a1d85a21381ca61e729"
      }
     },
     "metadata": {},
     "output_type": "display_data"
    },
    {
     "name": "stderr",
     "output_type": "stream",
     "text": [
      "D:\\Book-Recommendation-System\\Book_Recommender_venv\\lib\\site-packages\\huggingface_hub\\file_download.py:143: UserWarning: `huggingface_hub` cache-system uses symlinks by default to efficiently store duplicated files but your machine does not support them in C:\\Users\\danie\\.cache\\huggingface\\hub\\models--j-hartmann--emotion-english-distilroberta-base. Caching files will still work but in a degraded version that might require more space on your disk. This warning can be disabled by setting the `HF_HUB_DISABLE_SYMLINKS_WARNING` environment variable. For more details, see https://huggingface.co/docs/huggingface_hub/how-to-cache#limitations.\n",
      "To support symlinks on Windows, you either need to activate Developer Mode or to run Python as an administrator. In order to activate developer mode, see this article: https://docs.microsoft.com/en-us/windows/apps/get-started/enable-your-device-for-development\n",
      "  warnings.warn(message)\n",
      "Falling back to torch.float32 because loading with the original dtype failed on the target device.\n"
     ]
    },
    {
     "data": {
      "text/plain": "tokenizer_config.json:   0%|          | 0.00/294 [00:00<?, ?B/s]",
      "application/vnd.jupyter.widget-view+json": {
       "version_major": 2,
       "version_minor": 0,
       "model_id": "22ddbaa079ea4e109259f29633795c17"
      }
     },
     "metadata": {},
     "output_type": "display_data"
    },
    {
     "data": {
      "text/plain": "vocab.json: 0.00B [00:00, ?B/s]",
      "application/vnd.jupyter.widget-view+json": {
       "version_major": 2,
       "version_minor": 0,
       "model_id": "2b6cb64997d641f393e2713a668f214b"
      }
     },
     "metadata": {},
     "output_type": "display_data"
    },
    {
     "name": "stderr",
     "output_type": "stream",
     "text": [
      "Xet Storage is enabled for this repo, but the 'hf_xet' package is not installed. Falling back to regular HTTP download. For better performance, install the package with: `pip install huggingface_hub[hf_xet]` or `pip install hf_xet`\n"
     ]
    },
    {
     "data": {
      "text/plain": "merges.txt: 0.00B [00:00, ?B/s]",
      "application/vnd.jupyter.widget-view+json": {
       "version_major": 2,
       "version_minor": 0,
       "model_id": "a49e344ef6944b648d49f8af323ba0d7"
      }
     },
     "metadata": {},
     "output_type": "display_data"
    },
    {
     "data": {
      "text/plain": "model.safetensors:   0%|          | 0.00/329M [00:00<?, ?B/s]",
      "application/vnd.jupyter.widget-view+json": {
       "version_major": 2,
       "version_minor": 0,
       "model_id": "fdd210ff57394cfc9aecac9e81c6b18c"
      }
     },
     "metadata": {},
     "output_type": "display_data"
    },
    {
     "data": {
      "text/plain": "tokenizer.json: 0.00B [00:00, ?B/s]",
      "application/vnd.jupyter.widget-view+json": {
       "version_major": 2,
       "version_minor": 0,
       "model_id": "ad6a94cc6bf54eb1bd976b87e3ce523a"
      }
     },
     "metadata": {},
     "output_type": "display_data"
    },
    {
     "data": {
      "text/plain": "special_tokens_map.json:   0%|          | 0.00/239 [00:00<?, ?B/s]",
      "application/vnd.jupyter.widget-view+json": {
       "version_major": 2,
       "version_minor": 0,
       "model_id": "c5fb32f64ab74703bd625197ef7e991d"
      }
     },
     "metadata": {},
     "output_type": "display_data"
    },
    {
     "name": "stderr",
     "output_type": "stream",
     "text": [
      "Device set to use cpu\n"
     ]
    },
    {
     "data": {
      "text/plain": "[[{'label': 'joy', 'score': 0.9771687984466553},\n  {'label': 'surprise', 'score': 0.008528688922524452},\n  {'label': 'neutral', 'score': 0.005764589179307222},\n  {'label': 'anger', 'score': 0.004419790115207434},\n  {'label': 'sadness', 'score': 0.002092392183840275},\n  {'label': 'disgust', 'score': 0.001611991785466671},\n  {'label': 'fear', 'score': 0.0004138524236623198}]]"
     },
     "execution_count": 1,
     "metadata": {},
     "output_type": "execute_result"
    }
   ],
   "source": [
    "from transformers import pipeline\n",
    "classifier = pipeline(\"text-classification\", model=\"j-hartmann/emotion-english-distilroberta-base\", top_k = None, device = 0)\n",
    "classifier(\"I love this!\")\n"
   ],
   "metadata": {
    "collapsed": false,
    "ExecuteTime": {
     "end_time": "2025-08-12T04:21:05.685724200Z",
     "start_time": "2025-08-12T04:16:04.305660800Z"
    }
   },
   "id": "a4e2d4ad14065d96"
  },
  {
   "cell_type": "code",
   "execution_count": 4,
   "outputs": [
    {
     "data": {
      "text/plain": "[[{'label': 'fear', 'score': 0.6548399925231934},\n  {'label': 'neutral', 'score': 0.1698525995016098},\n  {'label': 'sadness', 'score': 0.11640939861536026},\n  {'label': 'surprise', 'score': 0.02070068009197712},\n  {'label': 'disgust', 'score': 0.019100721925497055},\n  {'label': 'joy', 'score': 0.015161462128162384},\n  {'label': 'anger', 'score': 0.003935154061764479}]]"
     },
     "execution_count": 4,
     "metadata": {},
     "output_type": "execute_result"
    }
   ],
   "source": [
    "classifier(books[\"description\"][0])"
   ],
   "metadata": {
    "collapsed": false,
    "ExecuteTime": {
     "end_time": "2025-08-12T04:21:45.038765300Z",
     "start_time": "2025-08-12T04:21:44.804002Z"
    }
   },
   "id": "5015d49a873ca640"
  },
  {
   "cell_type": "code",
   "execution_count": 5,
   "outputs": [
    {
     "data": {
      "text/plain": "[[{'label': 'surprise', 'score': 0.729602038860321},\n  {'label': 'neutral', 'score': 0.14038598537445068},\n  {'label': 'fear', 'score': 0.06816231459379196},\n  {'label': 'joy', 'score': 0.0479426383972168},\n  {'label': 'anger', 'score': 0.009156374260783195},\n  {'label': 'disgust', 'score': 0.002628476358950138},\n  {'label': 'sadness', 'score': 0.002122163539752364}],\n [{'label': 'neutral', 'score': 0.44937053322792053},\n  {'label': 'disgust', 'score': 0.2735915184020996},\n  {'label': 'joy', 'score': 0.10908309370279312},\n  {'label': 'sadness', 'score': 0.0936274453997612},\n  {'label': 'anger', 'score': 0.04047830402851105},\n  {'label': 'surprise', 'score': 0.02697017788887024},\n  {'label': 'fear', 'score': 0.006879044696688652}],\n [{'label': 'neutral', 'score': 0.6462159156799316},\n  {'label': 'sadness', 'score': 0.242733433842659},\n  {'label': 'disgust', 'score': 0.043422672897577286},\n  {'label': 'surprise', 'score': 0.02830057218670845},\n  {'label': 'joy', 'score': 0.014211490750312805},\n  {'label': 'fear', 'score': 0.014084091410040855},\n  {'label': 'anger', 'score': 0.011031905189156532}],\n [{'label': 'fear', 'score': 0.9281681180000305},\n  {'label': 'anger', 'score': 0.03219091519713402},\n  {'label': 'neutral', 'score': 0.012808694504201412},\n  {'label': 'sadness', 'score': 0.008756881579756737},\n  {'label': 'surprise', 'score': 0.008597923442721367},\n  {'label': 'disgust', 'score': 0.008431830443441868},\n  {'label': 'joy', 'score': 0.001045584212988615}],\n [{'label': 'sadness', 'score': 0.9671575427055359},\n  {'label': 'neutral', 'score': 0.015104134567081928},\n  {'label': 'disgust', 'score': 0.006480592768639326},\n  {'label': 'fear', 'score': 0.005393992643803358},\n  {'label': 'surprise', 'score': 0.002286941045895219},\n  {'label': 'anger', 'score': 0.001842890284024179},\n  {'label': 'joy', 'score': 0.0017338779289275408}],\n [{'label': 'joy', 'score': 0.9327981472015381},\n  {'label': 'disgust', 'score': 0.0377170704305172},\n  {'label': 'neutral', 'score': 0.015891827642917633},\n  {'label': 'sadness', 'score': 0.006444500293582678},\n  {'label': 'anger', 'score': 0.005024968180805445},\n  {'label': 'surprise', 'score': 0.0015812065685167909},\n  {'label': 'fear', 'score': 0.0005423057009465992}],\n [{'label': 'joy', 'score': 0.652870774269104},\n  {'label': 'neutral', 'score': 0.25427475571632385},\n  {'label': 'surprise', 'score': 0.06808294355869293},\n  {'label': 'sadness', 'score': 0.009908986277878284},\n  {'label': 'disgust', 'score': 0.006512213498353958},\n  {'label': 'anger', 'score': 0.004821308888494968},\n  {'label': 'fear', 'score': 0.0035290122032165527}],\n [{'label': 'neutral', 'score': 0.549476683139801},\n  {'label': 'sadness', 'score': 0.11169018596410751},\n  {'label': 'disgust', 'score': 0.10400670766830444},\n  {'label': 'surprise', 'score': 0.07876548916101456},\n  {'label': 'anger', 'score': 0.0641336515545845},\n  {'label': 'fear', 'score': 0.05136283487081528},\n  {'label': 'joy', 'score': 0.04056442901492119}]]"
     },
     "execution_count": 5,
     "metadata": {},
     "output_type": "execute_result"
    }
   ],
   "source": [
    "classifier(books[\"description\"][0].split(\".\"))"
   ],
   "metadata": {
    "collapsed": false,
    "ExecuteTime": {
     "end_time": "2025-08-12T04:21:53.025128200Z",
     "start_time": "2025-08-12T04:21:52.380360600Z"
    }
   },
   "id": "900c41525d91bc6a"
  },
  {
   "cell_type": "code",
   "execution_count": 6,
   "outputs": [],
   "source": [
    "import numpy as np\n",
    "\n",
    "emotion_labels = [\"anger\", \"disgust\", \"fear\", \"joy\", \"sadness\", \"surprise\", \"neutral\"]\n",
    "\n",
    "isbn = []\n",
    "\n",
    "emotion_scores = {label: [] for label in emotion_labels}\n",
    "\n",
    "def calculate_max_emotion_scores(predictions):\n",
    "    per_emotion_scores = {label: [] for label in emotion_labels}\n",
    "    for prediction in predictions:\n",
    "        sorted_predictions = sorted(prediction, key= lambda x: x[\"label\"])\n",
    "        for index, label in enumerate(emotion_labels):\n",
    "            per_emotion_scores[label].append(sorted_predictions[index][\"score\"])\n",
    "        return {label: np.max(scores) for label, scores in per_emotion_scores.items()}\n",
    "        \n",
    "        "
   ],
   "metadata": {
    "collapsed": false,
    "ExecuteTime": {
     "end_time": "2025-08-12T04:25:58.650904800Z",
     "start_time": "2025-08-12T04:25:58.612070300Z"
    }
   },
   "id": "ee5ba905dabdd694"
  },
  {
   "cell_type": "code",
   "execution_count": 8,
   "outputs": [
    {
     "name": "stderr",
     "output_type": "stream",
     "text": [
      "100%|██████████| 5197/5197 [08:00<00:00, 10.82it/s]\n"
     ]
    }
   ],
   "source": [
    "from tqdm import tqdm\n",
    "\n",
    "for i in tqdm(range(len(books))):\n",
    "    isbn.append(books[\"isbn13\"][i])\n",
    "    sentences = books[\"description\"][i].split(\".\")\n",
    "    predictions = classifier(sentences)\n",
    "    max_scores = calculate_max_emotion_scores(predictions)\n",
    "    for label in emotion_labels:\n",
    "        emotion_scores[label].append(max_scores[label])"
   ],
   "metadata": {
    "collapsed": false,
    "ExecuteTime": {
     "end_time": "2025-08-12T04:37:58.511943200Z",
     "start_time": "2025-08-12T04:29:58.250235100Z"
    }
   },
   "id": "1fe88d7f124f41bf"
  },
  {
   "cell_type": "code",
   "execution_count": 9,
   "outputs": [],
   "source": [
    "emotions_dataFrame = pd.DataFrame(emotion_scores)\n",
    "emotions_dataFrame[\"isbn13\"] = isbn\n"
   ],
   "metadata": {
    "collapsed": false,
    "ExecuteTime": {
     "end_time": "2025-08-12T04:42:19.940723Z",
     "start_time": "2025-08-12T04:42:19.899655300Z"
    }
   },
   "id": "d84166f7ce37096d"
  },
  {
   "cell_type": "code",
   "execution_count": 10,
   "outputs": [
    {
     "data": {
      "text/plain": "         anger   disgust      fear       joy   sadness  surprise   neutral  \\\n0     0.009156  0.002628  0.068162  0.047943  0.140386  0.002122  0.729602   \n1     0.005967  0.002887  0.003810  0.704422  0.217759  0.004509  0.060646   \n2     0.041301  0.024568  0.104061  0.767238  0.042176  0.010860  0.009796   \n3     0.016036  0.060695  0.001692  0.161758  0.732685  0.020988  0.006147   \n4     0.013624  0.122243  0.095043  0.008336  0.272614  0.475880  0.012260   \n...        ...       ...       ...       ...       ...       ...       ...   \n5192  0.025156  0.001939  0.094667  0.002254  0.010511  0.857256  0.008218   \n5193  0.005602  0.003775  0.018216  0.400263  0.338892  0.005487  0.227765   \n5194  0.008463  0.009146  0.013295  0.620453  0.329753  0.010788  0.008101   \n5195  0.005475  0.034544  0.003970  0.258354  0.648010  0.017372  0.032275   \n5196  0.002837  0.003137  0.001166  0.958549  0.028252  0.002916  0.003142   \n\n             isbn13  \n0     9780002005883  \n1     9780002261982  \n2     9780006178736  \n3     9780006280897  \n4     9780006280934  \n...             ...  \n5192  9788172235222  \n5193  9788173031014  \n5194  9788179921623  \n5195  9788185300535  \n5196  9789027712059  \n\n[5197 rows x 8 columns]",
      "text/html": "<div>\n<style scoped>\n    .dataframe tbody tr th:only-of-type {\n        vertical-align: middle;\n    }\n\n    .dataframe tbody tr th {\n        vertical-align: top;\n    }\n\n    .dataframe thead th {\n        text-align: right;\n    }\n</style>\n<table border=\"1\" class=\"dataframe\">\n  <thead>\n    <tr style=\"text-align: right;\">\n      <th></th>\n      <th>anger</th>\n      <th>disgust</th>\n      <th>fear</th>\n      <th>joy</th>\n      <th>sadness</th>\n      <th>surprise</th>\n      <th>neutral</th>\n      <th>isbn13</th>\n    </tr>\n  </thead>\n  <tbody>\n    <tr>\n      <th>0</th>\n      <td>0.009156</td>\n      <td>0.002628</td>\n      <td>0.068162</td>\n      <td>0.047943</td>\n      <td>0.140386</td>\n      <td>0.002122</td>\n      <td>0.729602</td>\n      <td>9780002005883</td>\n    </tr>\n    <tr>\n      <th>1</th>\n      <td>0.005967</td>\n      <td>0.002887</td>\n      <td>0.003810</td>\n      <td>0.704422</td>\n      <td>0.217759</td>\n      <td>0.004509</td>\n      <td>0.060646</td>\n      <td>9780002261982</td>\n    </tr>\n    <tr>\n      <th>2</th>\n      <td>0.041301</td>\n      <td>0.024568</td>\n      <td>0.104061</td>\n      <td>0.767238</td>\n      <td>0.042176</td>\n      <td>0.010860</td>\n      <td>0.009796</td>\n      <td>9780006178736</td>\n    </tr>\n    <tr>\n      <th>3</th>\n      <td>0.016036</td>\n      <td>0.060695</td>\n      <td>0.001692</td>\n      <td>0.161758</td>\n      <td>0.732685</td>\n      <td>0.020988</td>\n      <td>0.006147</td>\n      <td>9780006280897</td>\n    </tr>\n    <tr>\n      <th>4</th>\n      <td>0.013624</td>\n      <td>0.122243</td>\n      <td>0.095043</td>\n      <td>0.008336</td>\n      <td>0.272614</td>\n      <td>0.475880</td>\n      <td>0.012260</td>\n      <td>9780006280934</td>\n    </tr>\n    <tr>\n      <th>...</th>\n      <td>...</td>\n      <td>...</td>\n      <td>...</td>\n      <td>...</td>\n      <td>...</td>\n      <td>...</td>\n      <td>...</td>\n      <td>...</td>\n    </tr>\n    <tr>\n      <th>5192</th>\n      <td>0.025156</td>\n      <td>0.001939</td>\n      <td>0.094667</td>\n      <td>0.002254</td>\n      <td>0.010511</td>\n      <td>0.857256</td>\n      <td>0.008218</td>\n      <td>9788172235222</td>\n    </tr>\n    <tr>\n      <th>5193</th>\n      <td>0.005602</td>\n      <td>0.003775</td>\n      <td>0.018216</td>\n      <td>0.400263</td>\n      <td>0.338892</td>\n      <td>0.005487</td>\n      <td>0.227765</td>\n      <td>9788173031014</td>\n    </tr>\n    <tr>\n      <th>5194</th>\n      <td>0.008463</td>\n      <td>0.009146</td>\n      <td>0.013295</td>\n      <td>0.620453</td>\n      <td>0.329753</td>\n      <td>0.010788</td>\n      <td>0.008101</td>\n      <td>9788179921623</td>\n    </tr>\n    <tr>\n      <th>5195</th>\n      <td>0.005475</td>\n      <td>0.034544</td>\n      <td>0.003970</td>\n      <td>0.258354</td>\n      <td>0.648010</td>\n      <td>0.017372</td>\n      <td>0.032275</td>\n      <td>9788185300535</td>\n    </tr>\n    <tr>\n      <th>5196</th>\n      <td>0.002837</td>\n      <td>0.003137</td>\n      <td>0.001166</td>\n      <td>0.958549</td>\n      <td>0.028252</td>\n      <td>0.002916</td>\n      <td>0.003142</td>\n      <td>9789027712059</td>\n    </tr>\n  </tbody>\n</table>\n<p>5197 rows × 8 columns</p>\n</div>"
     },
     "execution_count": 10,
     "metadata": {},
     "output_type": "execute_result"
    }
   ],
   "source": [
    "emotions_dataFrame"
   ],
   "metadata": {
    "collapsed": false,
    "ExecuteTime": {
     "end_time": "2025-08-12T04:42:21.880459900Z",
     "start_time": "2025-08-12T04:42:21.837340900Z"
    }
   },
   "id": "7a227bf0d1277132"
  },
  {
   "cell_type": "code",
   "execution_count": 12,
   "outputs": [],
   "source": [
    "books = pd.merge(books, emotions_dataFrame, on = \"isbn13\")"
   ],
   "metadata": {
    "collapsed": false,
    "ExecuteTime": {
     "end_time": "2025-08-12T04:42:40.700496600Z",
     "start_time": "2025-08-12T04:42:40.694254Z"
    }
   },
   "id": "ed36c1f86c2bcacc"
  },
  {
   "cell_type": "code",
   "execution_count": 13,
   "outputs": [],
   "source": [
    "books.to_csv(\"books_with_emotions\", index = False)"
   ],
   "metadata": {
    "collapsed": false,
    "ExecuteTime": {
     "end_time": "2025-08-12T04:42:42.291763800Z",
     "start_time": "2025-08-12T04:42:42.154178700Z"
    }
   },
   "id": "2d2bff275adf399b"
  },
  {
   "cell_type": "markdown",
   "source": [],
   "metadata": {
    "collapsed": false
   },
   "id": "693cda80659e4ab0"
  }
 ],
 "metadata": {
  "kernelspec": {
   "display_name": "Python 3",
   "language": "python",
   "name": "python3"
  },
  "language_info": {
   "codemirror_mode": {
    "name": "ipython",
    "version": 2
   },
   "file_extension": ".py",
   "mimetype": "text/x-python",
   "name": "python",
   "nbconvert_exporter": "python",
   "pygments_lexer": "ipython2",
   "version": "2.7.6"
  }
 },
 "nbformat": 4,
 "nbformat_minor": 5
}
