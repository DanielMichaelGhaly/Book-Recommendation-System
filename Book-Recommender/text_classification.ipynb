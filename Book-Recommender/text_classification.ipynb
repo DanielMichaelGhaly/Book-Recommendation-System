{
 "cells": [
  {
   "cell_type": "code",
   "execution_count": 1,
   "id": "initial_id",
   "metadata": {
    "collapsed": true,
    "ExecuteTime": {
     "end_time": "2025-08-11T15:07:36.123927300Z",
     "start_time": "2025-08-11T15:07:35.593879100Z"
    }
   },
   "outputs": [],
   "source": [
    "import pandas as pd\n",
    "books = pd.read_csv(\"books_cleaned.csv\")"
   ]
  },
  {
   "cell_type": "code",
   "execution_count": 3,
   "outputs": [
    {
     "data": {
      "text/plain": "                    categories  count\n0                      Fiction   2111\n1             Juvenile Fiction    390\n2    Biography & Autobiography    311\n3                      History    207\n4           Literary Criticism    124\n..                         ...    ...\n474               Conspiracies      1\n475       Brothers and sisters      1\n476             Rock musicians      1\n477             Community life      1\n478    Indic fiction (English)      1\n\n[479 rows x 2 columns]",
      "text/html": "<div>\n<style scoped>\n    .dataframe tbody tr th:only-of-type {\n        vertical-align: middle;\n    }\n\n    .dataframe tbody tr th {\n        vertical-align: top;\n    }\n\n    .dataframe thead th {\n        text-align: right;\n    }\n</style>\n<table border=\"1\" class=\"dataframe\">\n  <thead>\n    <tr style=\"text-align: right;\">\n      <th></th>\n      <th>categories</th>\n      <th>count</th>\n    </tr>\n  </thead>\n  <tbody>\n    <tr>\n      <th>0</th>\n      <td>Fiction</td>\n      <td>2111</td>\n    </tr>\n    <tr>\n      <th>1</th>\n      <td>Juvenile Fiction</td>\n      <td>390</td>\n    </tr>\n    <tr>\n      <th>2</th>\n      <td>Biography &amp; Autobiography</td>\n      <td>311</td>\n    </tr>\n    <tr>\n      <th>3</th>\n      <td>History</td>\n      <td>207</td>\n    </tr>\n    <tr>\n      <th>4</th>\n      <td>Literary Criticism</td>\n      <td>124</td>\n    </tr>\n    <tr>\n      <th>...</th>\n      <td>...</td>\n      <td>...</td>\n    </tr>\n    <tr>\n      <th>474</th>\n      <td>Conspiracies</td>\n      <td>1</td>\n    </tr>\n    <tr>\n      <th>475</th>\n      <td>Brothers and sisters</td>\n      <td>1</td>\n    </tr>\n    <tr>\n      <th>476</th>\n      <td>Rock musicians</td>\n      <td>1</td>\n    </tr>\n    <tr>\n      <th>477</th>\n      <td>Community life</td>\n      <td>1</td>\n    </tr>\n    <tr>\n      <th>478</th>\n      <td>Indic fiction (English)</td>\n      <td>1</td>\n    </tr>\n  </tbody>\n</table>\n<p>479 rows × 2 columns</p>\n</div>"
     },
     "execution_count": 3,
     "metadata": {},
     "output_type": "execute_result"
    }
   ],
   "source": [
    "books[\"categories\"].value_counts().reset_index()"
   ],
   "metadata": {
    "collapsed": false,
    "ExecuteTime": {
     "end_time": "2025-08-11T15:08:23.613869800Z",
     "start_time": "2025-08-11T15:08:23.592859600Z"
    }
   },
   "id": "331fa73868462bed"
  },
  {
   "cell_type": "code",
   "execution_count": 4,
   "outputs": [
    {
     "data": {
      "text/plain": "                   categories  count\n0                     Fiction   2111\n1            Juvenile Fiction    390\n2   Biography & Autobiography    311\n3                     History    207\n4          Literary Criticism    124\n5                  Philosophy    117\n6                    Religion    117\n7     Comics & Graphic Novels    116\n8                       Drama     86\n9         Juvenile Nonfiction     57\n10                    Science     56\n11                     Poetry     51\n12       Literary Collections     50",
      "text/html": "<div>\n<style scoped>\n    .dataframe tbody tr th:only-of-type {\n        vertical-align: middle;\n    }\n\n    .dataframe tbody tr th {\n        vertical-align: top;\n    }\n\n    .dataframe thead th {\n        text-align: right;\n    }\n</style>\n<table border=\"1\" class=\"dataframe\">\n  <thead>\n    <tr style=\"text-align: right;\">\n      <th></th>\n      <th>categories</th>\n      <th>count</th>\n    </tr>\n  </thead>\n  <tbody>\n    <tr>\n      <th>0</th>\n      <td>Fiction</td>\n      <td>2111</td>\n    </tr>\n    <tr>\n      <th>1</th>\n      <td>Juvenile Fiction</td>\n      <td>390</td>\n    </tr>\n    <tr>\n      <th>2</th>\n      <td>Biography &amp; Autobiography</td>\n      <td>311</td>\n    </tr>\n    <tr>\n      <th>3</th>\n      <td>History</td>\n      <td>207</td>\n    </tr>\n    <tr>\n      <th>4</th>\n      <td>Literary Criticism</td>\n      <td>124</td>\n    </tr>\n    <tr>\n      <th>5</th>\n      <td>Philosophy</td>\n      <td>117</td>\n    </tr>\n    <tr>\n      <th>6</th>\n      <td>Religion</td>\n      <td>117</td>\n    </tr>\n    <tr>\n      <th>7</th>\n      <td>Comics &amp; Graphic Novels</td>\n      <td>116</td>\n    </tr>\n    <tr>\n      <th>8</th>\n      <td>Drama</td>\n      <td>86</td>\n    </tr>\n    <tr>\n      <th>9</th>\n      <td>Juvenile Nonfiction</td>\n      <td>57</td>\n    </tr>\n    <tr>\n      <th>10</th>\n      <td>Science</td>\n      <td>56</td>\n    </tr>\n    <tr>\n      <th>11</th>\n      <td>Poetry</td>\n      <td>51</td>\n    </tr>\n    <tr>\n      <th>12</th>\n      <td>Literary Collections</td>\n      <td>50</td>\n    </tr>\n  </tbody>\n</table>\n</div>"
     },
     "execution_count": 4,
     "metadata": {},
     "output_type": "execute_result"
    }
   ],
   "source": [
    "books[\"categories\"].value_counts().reset_index().query(\"count >= 50\")"
   ],
   "metadata": {
    "collapsed": false,
    "ExecuteTime": {
     "end_time": "2025-08-11T15:09:16.059267300Z",
     "start_time": "2025-08-11T15:09:16.048035600Z"
    }
   },
   "id": "8d023dfcbb29f6fd"
  },
  {
   "cell_type": "code",
   "execution_count": 5,
   "outputs": [
    {
     "data": {
      "text/plain": "             isbn13      isbn10  \\\n30    9780006646006  000664600X   \n79    9780020442608  0020442602   \n85    9780030547744  0030547741   \n86    9780060000141  0060000147   \n87    9780060001537  0060001534   \n...             ...         ...   \n4845  9781590385814  1590385810   \n4930  9781596792500  1596792507   \n4942  9781599900056  159990005X   \n5010  9781844580514  1844580512   \n5157  9781932416374  1932416374   \n\n                                                  title  \\\n30                                   Ocean Star Express   \n79                       The voyage of the Dawn Treader   \n85                             Where the Red Fern Grows   \n86                                       Poppy's Return   \n87                                    Diary of a Spider   \n...                                                 ...   \n4845                                         Fablehaven   \n4930  Sherlock Holmes and the Case of the Hound of t...   \n4942                                    The Drift House   \n5010                               Attack of the Jaguar   \n5157                The Very Persistent Gappers of Frip   \n\n                                  authors        categories  \\\n30               Mark Haddon;Peter Sutton  Juvenile Fiction   \n79                    Clive Staples Lewis  Juvenile Fiction   \n85                           Wilson Rawls  Juvenile Fiction   \n86                                    Avi  Juvenile Fiction   \n87                          Doreen Cronin  Juvenile Fiction   \n...                                   ...               ...   \n4845                         Brandon Mull  Juvenile Fiction   \n4930  Arthur Conan Doyle;Malvina G. Vogel  Juvenile Fiction   \n4942                            Dale Peck  Juvenile Fiction   \n5010                         M. A. Harvey  Juvenile Fiction   \n5157           George Saunders;Lane Smith  Juvenile Fiction   \n\n                                              thumbnail  \\\n30    http://books.google.com/books/content?id=I2QZA...   \n79    http://books.google.com/books/content?id=fDD3C...   \n85    http://books.google.com/books/content?id=IHpRw...   \n86    http://books.google.com/books/content?id=XbcMJ...   \n87    http://books.google.com/books/content?id=UWvZo...   \n...                                                 ...   \n4845  http://books.google.com/books/content?id=tbVIP...   \n4930  http://books.google.com/books/content?id=EWgWP...   \n4942  http://books.google.com/books/content?id=kbwPY...   \n5010  http://books.google.com/books/content?id=3HUdt...   \n5157  http://books.google.com/books/content?id=xYJOP...   \n\n                                            description  published_year  \\\n30    Joe and his parents are enjoying a summer holi...          2002.0   \n79    The \"Dawn Treader\" is the first ship Narnia ha...          1970.0   \n85    A young boy living in the Ozarks achieves his ...          2000.0   \n86    There's trouble at Gray House, the girlhood ho...          2006.0   \n87    This is the diary ... of a spider. But don't b...          2005.0   \n...                                                 ...             ...   \n4845  When Kendra and Seth go to stay at their grand...          2006.0   \n4930  Sherlock Holmes and Dr. Watson travel to the b...          2005.0   \n4942  Sent to stay with their uncle in a ship-like h...          2006.0   \n5010  This training manual for operatives of Xtreme ...          2004.0   \n5157  A novel set in the seaside village of Frip fol...          2006.0   \n\n      average_rating  num_pages  ratings_count  \\\n30              3.50       32.0            1.0   \n79              4.09      216.0         2869.0   \n85              4.37      288.0           95.0   \n86              3.99      256.0         1086.0   \n87              4.25       40.0         7903.0   \n...              ...        ...            ...   \n4845            4.09      351.0       111896.0   \n4930            4.51      237.0           28.0   \n4942            3.64      437.0          595.0   \n5010            3.40      125.0            4.0   \n5157            4.11       84.0         2317.0   \n\n                                     title_and_subtitle  \\\n30                                   Ocean Star Express   \n79                       The voyage of the Dawn Treader   \n85    Where the Red Fern Grows: The Story of Two Dog...   \n86                                       Poppy's Return   \n87                                    Diary of a Spider   \n...                                                 ...   \n4845                                         Fablehaven   \n4930  Sherlock Holmes and the Case of the Hound of t...   \n4942                  The Drift House: The First Voyage   \n5010                               Attack of the Jaguar   \n5157                The Very Persistent Gappers of Frip   \n\n                                     tagged_description  \n30    9780006646006 Joe and his parents are enjoying...  \n79    9780020442608 The \"Dawn Treader\" is the first ...  \n85    9780030547744 A young boy living in the Ozarks...  \n86    9780060000141 There's trouble at Gray House, t...  \n87    9780060001537 This is the diary ... of a spide...  \n...                                                 ...  \n4845  9781590385814 When Kendra and Seth go to stay ...  \n4930  9781596792500 Sherlock Holmes and Dr. Watson t...  \n4942  9781599900056 Sent to stay with their uncle in...  \n5010  9781844580514 This training manual for operati...  \n5157  9781932416374 A novel set in the seaside villa...  \n\n[390 rows x 13 columns]",
      "text/html": "<div>\n<style scoped>\n    .dataframe tbody tr th:only-of-type {\n        vertical-align: middle;\n    }\n\n    .dataframe tbody tr th {\n        vertical-align: top;\n    }\n\n    .dataframe thead th {\n        text-align: right;\n    }\n</style>\n<table border=\"1\" class=\"dataframe\">\n  <thead>\n    <tr style=\"text-align: right;\">\n      <th></th>\n      <th>isbn13</th>\n      <th>isbn10</th>\n      <th>title</th>\n      <th>authors</th>\n      <th>categories</th>\n      <th>thumbnail</th>\n      <th>description</th>\n      <th>published_year</th>\n      <th>average_rating</th>\n      <th>num_pages</th>\n      <th>ratings_count</th>\n      <th>title_and_subtitle</th>\n      <th>tagged_description</th>\n    </tr>\n  </thead>\n  <tbody>\n    <tr>\n      <th>30</th>\n      <td>9780006646006</td>\n      <td>000664600X</td>\n      <td>Ocean Star Express</td>\n      <td>Mark Haddon;Peter Sutton</td>\n      <td>Juvenile Fiction</td>\n      <td>http://books.google.com/books/content?id=I2QZA...</td>\n      <td>Joe and his parents are enjoying a summer holi...</td>\n      <td>2002.0</td>\n      <td>3.50</td>\n      <td>32.0</td>\n      <td>1.0</td>\n      <td>Ocean Star Express</td>\n      <td>9780006646006 Joe and his parents are enjoying...</td>\n    </tr>\n    <tr>\n      <th>79</th>\n      <td>9780020442608</td>\n      <td>0020442602</td>\n      <td>The voyage of the Dawn Treader</td>\n      <td>Clive Staples Lewis</td>\n      <td>Juvenile Fiction</td>\n      <td>http://books.google.com/books/content?id=fDD3C...</td>\n      <td>The \"Dawn Treader\" is the first ship Narnia ha...</td>\n      <td>1970.0</td>\n      <td>4.09</td>\n      <td>216.0</td>\n      <td>2869.0</td>\n      <td>The voyage of the Dawn Treader</td>\n      <td>9780020442608 The \"Dawn Treader\" is the first ...</td>\n    </tr>\n    <tr>\n      <th>85</th>\n      <td>9780030547744</td>\n      <td>0030547741</td>\n      <td>Where the Red Fern Grows</td>\n      <td>Wilson Rawls</td>\n      <td>Juvenile Fiction</td>\n      <td>http://books.google.com/books/content?id=IHpRw...</td>\n      <td>A young boy living in the Ozarks achieves his ...</td>\n      <td>2000.0</td>\n      <td>4.37</td>\n      <td>288.0</td>\n      <td>95.0</td>\n      <td>Where the Red Fern Grows: The Story of Two Dog...</td>\n      <td>9780030547744 A young boy living in the Ozarks...</td>\n    </tr>\n    <tr>\n      <th>86</th>\n      <td>9780060000141</td>\n      <td>0060000147</td>\n      <td>Poppy's Return</td>\n      <td>Avi</td>\n      <td>Juvenile Fiction</td>\n      <td>http://books.google.com/books/content?id=XbcMJ...</td>\n      <td>There's trouble at Gray House, the girlhood ho...</td>\n      <td>2006.0</td>\n      <td>3.99</td>\n      <td>256.0</td>\n      <td>1086.0</td>\n      <td>Poppy's Return</td>\n      <td>9780060000141 There's trouble at Gray House, t...</td>\n    </tr>\n    <tr>\n      <th>87</th>\n      <td>9780060001537</td>\n      <td>0060001534</td>\n      <td>Diary of a Spider</td>\n      <td>Doreen Cronin</td>\n      <td>Juvenile Fiction</td>\n      <td>http://books.google.com/books/content?id=UWvZo...</td>\n      <td>This is the diary ... of a spider. But don't b...</td>\n      <td>2005.0</td>\n      <td>4.25</td>\n      <td>40.0</td>\n      <td>7903.0</td>\n      <td>Diary of a Spider</td>\n      <td>9780060001537 This is the diary ... of a spide...</td>\n    </tr>\n    <tr>\n      <th>...</th>\n      <td>...</td>\n      <td>...</td>\n      <td>...</td>\n      <td>...</td>\n      <td>...</td>\n      <td>...</td>\n      <td>...</td>\n      <td>...</td>\n      <td>...</td>\n      <td>...</td>\n      <td>...</td>\n      <td>...</td>\n      <td>...</td>\n    </tr>\n    <tr>\n      <th>4845</th>\n      <td>9781590385814</td>\n      <td>1590385810</td>\n      <td>Fablehaven</td>\n      <td>Brandon Mull</td>\n      <td>Juvenile Fiction</td>\n      <td>http://books.google.com/books/content?id=tbVIP...</td>\n      <td>When Kendra and Seth go to stay at their grand...</td>\n      <td>2006.0</td>\n      <td>4.09</td>\n      <td>351.0</td>\n      <td>111896.0</td>\n      <td>Fablehaven</td>\n      <td>9781590385814 When Kendra and Seth go to stay ...</td>\n    </tr>\n    <tr>\n      <th>4930</th>\n      <td>9781596792500</td>\n      <td>1596792507</td>\n      <td>Sherlock Holmes and the Case of the Hound of t...</td>\n      <td>Arthur Conan Doyle;Malvina G. Vogel</td>\n      <td>Juvenile Fiction</td>\n      <td>http://books.google.com/books/content?id=EWgWP...</td>\n      <td>Sherlock Holmes and Dr. Watson travel to the b...</td>\n      <td>2005.0</td>\n      <td>4.51</td>\n      <td>237.0</td>\n      <td>28.0</td>\n      <td>Sherlock Holmes and the Case of the Hound of t...</td>\n      <td>9781596792500 Sherlock Holmes and Dr. Watson t...</td>\n    </tr>\n    <tr>\n      <th>4942</th>\n      <td>9781599900056</td>\n      <td>159990005X</td>\n      <td>The Drift House</td>\n      <td>Dale Peck</td>\n      <td>Juvenile Fiction</td>\n      <td>http://books.google.com/books/content?id=kbwPY...</td>\n      <td>Sent to stay with their uncle in a ship-like h...</td>\n      <td>2006.0</td>\n      <td>3.64</td>\n      <td>437.0</td>\n      <td>595.0</td>\n      <td>The Drift House: The First Voyage</td>\n      <td>9781599900056 Sent to stay with their uncle in...</td>\n    </tr>\n    <tr>\n      <th>5010</th>\n      <td>9781844580514</td>\n      <td>1844580512</td>\n      <td>Attack of the Jaguar</td>\n      <td>M. A. Harvey</td>\n      <td>Juvenile Fiction</td>\n      <td>http://books.google.com/books/content?id=3HUdt...</td>\n      <td>This training manual for operatives of Xtreme ...</td>\n      <td>2004.0</td>\n      <td>3.40</td>\n      <td>125.0</td>\n      <td>4.0</td>\n      <td>Attack of the Jaguar</td>\n      <td>9781844580514 This training manual for operati...</td>\n    </tr>\n    <tr>\n      <th>5157</th>\n      <td>9781932416374</td>\n      <td>1932416374</td>\n      <td>The Very Persistent Gappers of Frip</td>\n      <td>George Saunders;Lane Smith</td>\n      <td>Juvenile Fiction</td>\n      <td>http://books.google.com/books/content?id=xYJOP...</td>\n      <td>A novel set in the seaside village of Frip fol...</td>\n      <td>2006.0</td>\n      <td>4.11</td>\n      <td>84.0</td>\n      <td>2317.0</td>\n      <td>The Very Persistent Gappers of Frip</td>\n      <td>9781932416374 A novel set in the seaside villa...</td>\n    </tr>\n  </tbody>\n</table>\n<p>390 rows × 13 columns</p>\n</div>"
     },
     "execution_count": 5,
     "metadata": {},
     "output_type": "execute_result"
    }
   ],
   "source": [
    "books[books[\"categories\"] == \"Juvenile Fiction\"]"
   ],
   "metadata": {
    "collapsed": false,
    "ExecuteTime": {
     "end_time": "2025-08-11T15:09:51.237791900Z",
     "start_time": "2025-08-11T15:09:51.203412100Z"
    }
   },
   "id": "eb12bb03736bb118"
  },
  {
   "cell_type": "code",
   "execution_count": 6,
   "outputs": [],
   "source": [
    "category_mapping = {'Fiction' : \"Fiction\",\n",
    "                    'Juvenile Fiction': \"Children's Fiction\",\n",
    "                    'Biography & Autobiography': \"Nonfiction\",\n",
    "                    'History': \"Nonfiction\",\n",
    "                    'Literary Criticism': \"Nonfiction\",\n",
    "                    'Philosophy': \"Nonfiction\",\n",
    "                    'Religion': \"Nonfiction\",\n",
    "                    'Comics & Graphic Novels': \"Fiction\",\n",
    "                    'Drama': \"Fiction\",\n",
    "                    'Juvenile Nonfiction': \"Children's Nonfiction\",\n",
    "                    'Science': \"Nonfiction\",\n",
    "                    'Poetry': \"Fiction\"\n",
    "}\n",
    "\n",
    "books[\"simple_categories\"] = books[\"categories\"].map(category_mapping)"
   ],
   "metadata": {
    "collapsed": false,
    "ExecuteTime": {
     "end_time": "2025-08-11T15:14:01.357149400Z",
     "start_time": "2025-08-11T15:14:01.337149100Z"
    }
   },
   "id": "56548ff4b755ce98"
  },
  {
   "cell_type": "code",
   "execution_count": 7,
   "outputs": [
    {
     "data": {
      "text/plain": "             isbn13      isbn10  \\\n0     9780002005883  0002005883   \n1     9780002261982  0002261987   \n2     9780006178736  0006178731   \n3     9780006280897  0006280897   \n4     9780006280934  0006280935   \n...             ...         ...   \n5192  9788172235222  8172235224   \n5193  9788173031014  8173031010   \n5194  9788179921623  817992162X   \n5195  9788185300535  8185300534   \n5196  9789027712059  9027712050   \n\n                                                  title  \\\n0                                                Gilead   \n1                                          Spider's Web   \n2                                        Rage of angels   \n3                                        The Four Loves   \n4                                   The Problem of Pain   \n...                                                 ...   \n5192                                  Mistaken Identity   \n5193                                Journey to the East   \n5194  The Monk Who Sold His Ferrari: A Fable About F...   \n5195                                          I Am that   \n5196                           The Berlin Phenomenology   \n\n                                           authors  \\\n0                               Marilynne Robinson   \n1                  Charles Osborne;Agatha Christie   \n2                                   Sidney Sheldon   \n3                              Clive Staples Lewis   \n4                              Clive Staples Lewis   \n...                                            ...   \n5192                              Nayantara Sahgal   \n5193                                 Hermann Hesse   \n5194                                  Robin Sharma   \n5195  Sri Nisargadatta Maharaj;Sudhakar S. Dikshit   \n5196                 Georg Wilhelm Friedrich Hegel   \n\n                         categories  \\\n0                           Fiction   \n1     Detective and mystery stories   \n2                           Fiction   \n3                    Christian life   \n4                    Christian life   \n...                             ...   \n5192        Indic fiction (English)   \n5193              Adventure stories   \n5194               Health & Fitness   \n5195                     Philosophy   \n5196                        History   \n\n                                              thumbnail  \\\n0     http://books.google.com/books/content?id=KQZCP...   \n1     http://books.google.com/books/content?id=gA5GP...   \n2     http://books.google.com/books/content?id=FKo2T...   \n3     http://books.google.com/books/content?id=XhQ5X...   \n4     http://books.google.com/books/content?id=Kk-uV...   \n...                                                 ...   \n5192  http://books.google.com/books/content?id=q-tKP...   \n5193  http://books.google.com/books/content?id=rq6JP...   \n5194  http://books.google.com/books/content?id=c_7mf...   \n5195  http://books.google.com/books/content?id=Fv_JP...   \n5196  http://books.google.com/books/content?id=Vy7Sk...   \n\n                                            description  published_year  \\\n0     A NOVEL THAT READERS and critics have been eag...          2004.0   \n1     A new 'Christie for Christmas' -- a full-lengt...          2000.0   \n2     A memorable, mesmerizing heroine Jennifer -- b...          1993.0   \n3     Lewis' work on the nature of love divides love...          2002.0   \n4     \"In The Problem of Pain, C.S. Lewis, one of th...          2002.0   \n...                                                 ...             ...   \n5192  On A Train Journey Home To North India After L...          2003.0   \n5193  This book tells the tale of a man who goes on ...          2002.0   \n5194  Wisdom to Create a Life of Passion, Purpose, a...          2003.0   \n5195  This collection of the timeless teachings of o...          1999.0   \n5196  Since the three volume edition ofHegel's Philo...          1981.0   \n\n      average_rating  num_pages  ratings_count  \\\n0               3.85      247.0          361.0   \n1               3.83      241.0         5164.0   \n2               3.93      512.0        29532.0   \n3               4.15      170.0        33684.0   \n4               4.09      176.0        37569.0   \n...              ...        ...            ...   \n5192            2.93      324.0            0.0   \n5193            3.70      175.0           24.0   \n5194            3.82      198.0         1568.0   \n5195            4.51      531.0          104.0   \n5196            0.00      210.0            0.0   \n\n                                     title_and_subtitle  \\\n0                                                Gilead   \n1                                 Spider's Web: A Novel   \n2                                        Rage of angels   \n3                                        The Four Loves   \n4                                   The Problem of Pain   \n...                                                 ...   \n5192                                  Mistaken Identity   \n5193                                Journey to the East   \n5194  The Monk Who Sold His Ferrari: A Fable About F...   \n5195     I Am that: Talks with Sri Nisargadatta Maharaj   \n5196                           The Berlin Phenomenology   \n\n                                     tagged_description simple_categories  \n0     9780002005883 A NOVEL THAT READERS and critics...           Fiction  \n1     9780002261982 A new 'Christie for Christmas' -...               NaN  \n2     9780006178736 A memorable, mesmerizing heroine...           Fiction  \n3     9780006280897 Lewis' work on the nature of lov...               NaN  \n4     9780006280934 \"In The Problem of Pain, C.S. Le...               NaN  \n...                                                 ...               ...  \n5192  9788172235222 On A Train Journey Home To North...               NaN  \n5193  9788173031014 This book tells the tale of a ma...               NaN  \n5194  9788179921623 Wisdom to Create a Life of Passi...               NaN  \n5195  9788185300535 This collection of the timeless ...        Nonfiction  \n5196  9789027712059 Since the three volume edition o...        Nonfiction  \n\n[5197 rows x 14 columns]",
      "text/html": "<div>\n<style scoped>\n    .dataframe tbody tr th:only-of-type {\n        vertical-align: middle;\n    }\n\n    .dataframe tbody tr th {\n        vertical-align: top;\n    }\n\n    .dataframe thead th {\n        text-align: right;\n    }\n</style>\n<table border=\"1\" class=\"dataframe\">\n  <thead>\n    <tr style=\"text-align: right;\">\n      <th></th>\n      <th>isbn13</th>\n      <th>isbn10</th>\n      <th>title</th>\n      <th>authors</th>\n      <th>categories</th>\n      <th>thumbnail</th>\n      <th>description</th>\n      <th>published_year</th>\n      <th>average_rating</th>\n      <th>num_pages</th>\n      <th>ratings_count</th>\n      <th>title_and_subtitle</th>\n      <th>tagged_description</th>\n      <th>simple_categories</th>\n    </tr>\n  </thead>\n  <tbody>\n    <tr>\n      <th>0</th>\n      <td>9780002005883</td>\n      <td>0002005883</td>\n      <td>Gilead</td>\n      <td>Marilynne Robinson</td>\n      <td>Fiction</td>\n      <td>http://books.google.com/books/content?id=KQZCP...</td>\n      <td>A NOVEL THAT READERS and critics have been eag...</td>\n      <td>2004.0</td>\n      <td>3.85</td>\n      <td>247.0</td>\n      <td>361.0</td>\n      <td>Gilead</td>\n      <td>9780002005883 A NOVEL THAT READERS and critics...</td>\n      <td>Fiction</td>\n    </tr>\n    <tr>\n      <th>1</th>\n      <td>9780002261982</td>\n      <td>0002261987</td>\n      <td>Spider's Web</td>\n      <td>Charles Osborne;Agatha Christie</td>\n      <td>Detective and mystery stories</td>\n      <td>http://books.google.com/books/content?id=gA5GP...</td>\n      <td>A new 'Christie for Christmas' -- a full-lengt...</td>\n      <td>2000.0</td>\n      <td>3.83</td>\n      <td>241.0</td>\n      <td>5164.0</td>\n      <td>Spider's Web: A Novel</td>\n      <td>9780002261982 A new 'Christie for Christmas' -...</td>\n      <td>NaN</td>\n    </tr>\n    <tr>\n      <th>2</th>\n      <td>9780006178736</td>\n      <td>0006178731</td>\n      <td>Rage of angels</td>\n      <td>Sidney Sheldon</td>\n      <td>Fiction</td>\n      <td>http://books.google.com/books/content?id=FKo2T...</td>\n      <td>A memorable, mesmerizing heroine Jennifer -- b...</td>\n      <td>1993.0</td>\n      <td>3.93</td>\n      <td>512.0</td>\n      <td>29532.0</td>\n      <td>Rage of angels</td>\n      <td>9780006178736 A memorable, mesmerizing heroine...</td>\n      <td>Fiction</td>\n    </tr>\n    <tr>\n      <th>3</th>\n      <td>9780006280897</td>\n      <td>0006280897</td>\n      <td>The Four Loves</td>\n      <td>Clive Staples Lewis</td>\n      <td>Christian life</td>\n      <td>http://books.google.com/books/content?id=XhQ5X...</td>\n      <td>Lewis' work on the nature of love divides love...</td>\n      <td>2002.0</td>\n      <td>4.15</td>\n      <td>170.0</td>\n      <td>33684.0</td>\n      <td>The Four Loves</td>\n      <td>9780006280897 Lewis' work on the nature of lov...</td>\n      <td>NaN</td>\n    </tr>\n    <tr>\n      <th>4</th>\n      <td>9780006280934</td>\n      <td>0006280935</td>\n      <td>The Problem of Pain</td>\n      <td>Clive Staples Lewis</td>\n      <td>Christian life</td>\n      <td>http://books.google.com/books/content?id=Kk-uV...</td>\n      <td>\"In The Problem of Pain, C.S. Lewis, one of th...</td>\n      <td>2002.0</td>\n      <td>4.09</td>\n      <td>176.0</td>\n      <td>37569.0</td>\n      <td>The Problem of Pain</td>\n      <td>9780006280934 \"In The Problem of Pain, C.S. Le...</td>\n      <td>NaN</td>\n    </tr>\n    <tr>\n      <th>...</th>\n      <td>...</td>\n      <td>...</td>\n      <td>...</td>\n      <td>...</td>\n      <td>...</td>\n      <td>...</td>\n      <td>...</td>\n      <td>...</td>\n      <td>...</td>\n      <td>...</td>\n      <td>...</td>\n      <td>...</td>\n      <td>...</td>\n      <td>...</td>\n    </tr>\n    <tr>\n      <th>5192</th>\n      <td>9788172235222</td>\n      <td>8172235224</td>\n      <td>Mistaken Identity</td>\n      <td>Nayantara Sahgal</td>\n      <td>Indic fiction (English)</td>\n      <td>http://books.google.com/books/content?id=q-tKP...</td>\n      <td>On A Train Journey Home To North India After L...</td>\n      <td>2003.0</td>\n      <td>2.93</td>\n      <td>324.0</td>\n      <td>0.0</td>\n      <td>Mistaken Identity</td>\n      <td>9788172235222 On A Train Journey Home To North...</td>\n      <td>NaN</td>\n    </tr>\n    <tr>\n      <th>5193</th>\n      <td>9788173031014</td>\n      <td>8173031010</td>\n      <td>Journey to the East</td>\n      <td>Hermann Hesse</td>\n      <td>Adventure stories</td>\n      <td>http://books.google.com/books/content?id=rq6JP...</td>\n      <td>This book tells the tale of a man who goes on ...</td>\n      <td>2002.0</td>\n      <td>3.70</td>\n      <td>175.0</td>\n      <td>24.0</td>\n      <td>Journey to the East</td>\n      <td>9788173031014 This book tells the tale of a ma...</td>\n      <td>NaN</td>\n    </tr>\n    <tr>\n      <th>5194</th>\n      <td>9788179921623</td>\n      <td>817992162X</td>\n      <td>The Monk Who Sold His Ferrari: A Fable About F...</td>\n      <td>Robin Sharma</td>\n      <td>Health &amp; Fitness</td>\n      <td>http://books.google.com/books/content?id=c_7mf...</td>\n      <td>Wisdom to Create a Life of Passion, Purpose, a...</td>\n      <td>2003.0</td>\n      <td>3.82</td>\n      <td>198.0</td>\n      <td>1568.0</td>\n      <td>The Monk Who Sold His Ferrari: A Fable About F...</td>\n      <td>9788179921623 Wisdom to Create a Life of Passi...</td>\n      <td>NaN</td>\n    </tr>\n    <tr>\n      <th>5195</th>\n      <td>9788185300535</td>\n      <td>8185300534</td>\n      <td>I Am that</td>\n      <td>Sri Nisargadatta Maharaj;Sudhakar S. Dikshit</td>\n      <td>Philosophy</td>\n      <td>http://books.google.com/books/content?id=Fv_JP...</td>\n      <td>This collection of the timeless teachings of o...</td>\n      <td>1999.0</td>\n      <td>4.51</td>\n      <td>531.0</td>\n      <td>104.0</td>\n      <td>I Am that: Talks with Sri Nisargadatta Maharaj</td>\n      <td>9788185300535 This collection of the timeless ...</td>\n      <td>Nonfiction</td>\n    </tr>\n    <tr>\n      <th>5196</th>\n      <td>9789027712059</td>\n      <td>9027712050</td>\n      <td>The Berlin Phenomenology</td>\n      <td>Georg Wilhelm Friedrich Hegel</td>\n      <td>History</td>\n      <td>http://books.google.com/books/content?id=Vy7Sk...</td>\n      <td>Since the three volume edition ofHegel's Philo...</td>\n      <td>1981.0</td>\n      <td>0.00</td>\n      <td>210.0</td>\n      <td>0.0</td>\n      <td>The Berlin Phenomenology</td>\n      <td>9789027712059 Since the three volume edition o...</td>\n      <td>Nonfiction</td>\n    </tr>\n  </tbody>\n</table>\n<p>5197 rows × 14 columns</p>\n</div>"
     },
     "execution_count": 7,
     "metadata": {},
     "output_type": "execute_result"
    }
   ],
   "source": [
    "books"
   ],
   "metadata": {
    "collapsed": false,
    "ExecuteTime": {
     "end_time": "2025-08-11T15:14:17.920739100Z",
     "start_time": "2025-08-11T15:14:17.895714800Z"
    }
   },
   "id": "ea042278ea1ef383"
  },
  {
   "cell_type": "code",
   "execution_count": 8,
   "outputs": [
    {
     "data": {
      "text/plain": "             isbn13      isbn10                      title  \\\n0     9780002005883  0002005883                     Gilead   \n2     9780006178736  0006178731             Rage of angels   \n8     9780006482079  0006482074        Warhost of Vastmark   \n30    9780006646006  000664600X         Ocean Star Express   \n46    9780007121014  0007121016         Taken at the Flood   \n...             ...         ...                        ...   \n5178  9781933648279  1933648279  Night Has a Thousand Eyes   \n5188  9784770028969  4770028962         Coin Locker Babies   \n5189  9788122200850  8122200850           Cry, the Peacock   \n5195  9788185300535  8185300534                  I Am that   \n5196  9789027712059  9027712050   The Berlin Phenomenology   \n\n                                           authors        categories  \\\n0                               Marilynne Robinson           Fiction   \n2                                   Sidney Sheldon           Fiction   \n8                                      Janny Wurts           Fiction   \n30                        Mark Haddon;Peter Sutton  Juvenile Fiction   \n46                                 Agatha Christie           Fiction   \n...                                            ...               ...   \n5178                              Cornell Woolrich           Fiction   \n5188                                           村上龍           Fiction   \n5189                                   Anita Desai           Fiction   \n5195  Sri Nisargadatta Maharaj;Sudhakar S. Dikshit        Philosophy   \n5196                 Georg Wilhelm Friedrich Hegel           History   \n\n                                              thumbnail  \\\n0     http://books.google.com/books/content?id=KQZCP...   \n2     http://books.google.com/books/content?id=FKo2T...   \n8     http://books.google.com/books/content?id=uOL0f...   \n30    http://books.google.com/books/content?id=I2QZA...   \n46    http://books.google.com/books/content?id=3gWlx...   \n...                                                 ...   \n5178  http://books.google.com/books/content?id=3Gk6s...   \n5188  http://books.google.com/books/content?id=87DJw...   \n5189  http://books.google.com/books/content?id=_QKwV...   \n5195  http://books.google.com/books/content?id=Fv_JP...   \n5196  http://books.google.com/books/content?id=Vy7Sk...   \n\n                                            description  published_year  \\\n0     A NOVEL THAT READERS and critics have been eag...          2004.0   \n2     A memorable, mesmerizing heroine Jennifer -- b...          1993.0   \n8     Tricked once more by his wily half-brother, Ly...          1995.0   \n30    Joe and his parents are enjoying a summer holi...          2002.0   \n46    A Few Weeks After Marrying An Attractive Young...          2002.0   \n...                                                 ...             ...   \n5178  \"Cornell Woolrich's novels define the essence ...          2007.0   \n5188  Rescued from the lockers in which they were le...          2002.0   \n5189  This book is the story of a young girl obsesse...          1980.0   \n5195  This collection of the timeless teachings of o...          1999.0   \n5196  Since the three volume edition ofHegel's Philo...          1981.0   \n\n      average_rating  num_pages  ratings_count  \\\n0               3.85      247.0          361.0   \n2               3.93      512.0        29532.0   \n8               4.03      522.0         2966.0   \n30              3.50       32.0            1.0   \n46              3.71      352.0         8852.0   \n...              ...        ...            ...   \n5178            3.77      344.0          680.0   \n5188            3.75      393.0         5560.0   \n5189            3.22      218.0          134.0   \n5195            4.51      531.0          104.0   \n5196            0.00      210.0            0.0   \n\n                                  title_and_subtitle  \\\n0                                             Gilead   \n2                                     Rage of angels   \n8                                Warhost of Vastmark   \n30                                Ocean Star Express   \n46                                Taken at the Flood   \n...                                              ...   \n5178                       Night Has a Thousand Eyes   \n5188                              Coin Locker Babies   \n5189                                Cry, the Peacock   \n5195  I Am that: Talks with Sri Nisargadatta Maharaj   \n5196                        The Berlin Phenomenology   \n\n                                     tagged_description   simple_categories  \n0     9780002005883 A NOVEL THAT READERS and critics...             Fiction  \n2     9780006178736 A memorable, mesmerizing heroine...             Fiction  \n8     9780006482079 Tricked once more by his wily ha...             Fiction  \n30    9780006646006 Joe and his parents are enjoying...  Children's Fiction  \n46    9780007121014 A Few Weeks After Marrying An At...             Fiction  \n...                                                 ...                 ...  \n5178  9781933648279 \"Cornell Woolrich's novels defin...             Fiction  \n5188  9784770028969 Rescued from the lockers in whic...             Fiction  \n5189  9788122200850 This book is the story of a youn...             Fiction  \n5195  9788185300535 This collection of the timeless ...          Nonfiction  \n5196  9789027712059 Since the three volume edition o...          Nonfiction  \n\n[3743 rows x 14 columns]",
      "text/html": "<div>\n<style scoped>\n    .dataframe tbody tr th:only-of-type {\n        vertical-align: middle;\n    }\n\n    .dataframe tbody tr th {\n        vertical-align: top;\n    }\n\n    .dataframe thead th {\n        text-align: right;\n    }\n</style>\n<table border=\"1\" class=\"dataframe\">\n  <thead>\n    <tr style=\"text-align: right;\">\n      <th></th>\n      <th>isbn13</th>\n      <th>isbn10</th>\n      <th>title</th>\n      <th>authors</th>\n      <th>categories</th>\n      <th>thumbnail</th>\n      <th>description</th>\n      <th>published_year</th>\n      <th>average_rating</th>\n      <th>num_pages</th>\n      <th>ratings_count</th>\n      <th>title_and_subtitle</th>\n      <th>tagged_description</th>\n      <th>simple_categories</th>\n    </tr>\n  </thead>\n  <tbody>\n    <tr>\n      <th>0</th>\n      <td>9780002005883</td>\n      <td>0002005883</td>\n      <td>Gilead</td>\n      <td>Marilynne Robinson</td>\n      <td>Fiction</td>\n      <td>http://books.google.com/books/content?id=KQZCP...</td>\n      <td>A NOVEL THAT READERS and critics have been eag...</td>\n      <td>2004.0</td>\n      <td>3.85</td>\n      <td>247.0</td>\n      <td>361.0</td>\n      <td>Gilead</td>\n      <td>9780002005883 A NOVEL THAT READERS and critics...</td>\n      <td>Fiction</td>\n    </tr>\n    <tr>\n      <th>2</th>\n      <td>9780006178736</td>\n      <td>0006178731</td>\n      <td>Rage of angels</td>\n      <td>Sidney Sheldon</td>\n      <td>Fiction</td>\n      <td>http://books.google.com/books/content?id=FKo2T...</td>\n      <td>A memorable, mesmerizing heroine Jennifer -- b...</td>\n      <td>1993.0</td>\n      <td>3.93</td>\n      <td>512.0</td>\n      <td>29532.0</td>\n      <td>Rage of angels</td>\n      <td>9780006178736 A memorable, mesmerizing heroine...</td>\n      <td>Fiction</td>\n    </tr>\n    <tr>\n      <th>8</th>\n      <td>9780006482079</td>\n      <td>0006482074</td>\n      <td>Warhost of Vastmark</td>\n      <td>Janny Wurts</td>\n      <td>Fiction</td>\n      <td>http://books.google.com/books/content?id=uOL0f...</td>\n      <td>Tricked once more by his wily half-brother, Ly...</td>\n      <td>1995.0</td>\n      <td>4.03</td>\n      <td>522.0</td>\n      <td>2966.0</td>\n      <td>Warhost of Vastmark</td>\n      <td>9780006482079 Tricked once more by his wily ha...</td>\n      <td>Fiction</td>\n    </tr>\n    <tr>\n      <th>30</th>\n      <td>9780006646006</td>\n      <td>000664600X</td>\n      <td>Ocean Star Express</td>\n      <td>Mark Haddon;Peter Sutton</td>\n      <td>Juvenile Fiction</td>\n      <td>http://books.google.com/books/content?id=I2QZA...</td>\n      <td>Joe and his parents are enjoying a summer holi...</td>\n      <td>2002.0</td>\n      <td>3.50</td>\n      <td>32.0</td>\n      <td>1.0</td>\n      <td>Ocean Star Express</td>\n      <td>9780006646006 Joe and his parents are enjoying...</td>\n      <td>Children's Fiction</td>\n    </tr>\n    <tr>\n      <th>46</th>\n      <td>9780007121014</td>\n      <td>0007121016</td>\n      <td>Taken at the Flood</td>\n      <td>Agatha Christie</td>\n      <td>Fiction</td>\n      <td>http://books.google.com/books/content?id=3gWlx...</td>\n      <td>A Few Weeks After Marrying An Attractive Young...</td>\n      <td>2002.0</td>\n      <td>3.71</td>\n      <td>352.0</td>\n      <td>8852.0</td>\n      <td>Taken at the Flood</td>\n      <td>9780007121014 A Few Weeks After Marrying An At...</td>\n      <td>Fiction</td>\n    </tr>\n    <tr>\n      <th>...</th>\n      <td>...</td>\n      <td>...</td>\n      <td>...</td>\n      <td>...</td>\n      <td>...</td>\n      <td>...</td>\n      <td>...</td>\n      <td>...</td>\n      <td>...</td>\n      <td>...</td>\n      <td>...</td>\n      <td>...</td>\n      <td>...</td>\n      <td>...</td>\n    </tr>\n    <tr>\n      <th>5178</th>\n      <td>9781933648279</td>\n      <td>1933648279</td>\n      <td>Night Has a Thousand Eyes</td>\n      <td>Cornell Woolrich</td>\n      <td>Fiction</td>\n      <td>http://books.google.com/books/content?id=3Gk6s...</td>\n      <td>\"Cornell Woolrich's novels define the essence ...</td>\n      <td>2007.0</td>\n      <td>3.77</td>\n      <td>344.0</td>\n      <td>680.0</td>\n      <td>Night Has a Thousand Eyes</td>\n      <td>9781933648279 \"Cornell Woolrich's novels defin...</td>\n      <td>Fiction</td>\n    </tr>\n    <tr>\n      <th>5188</th>\n      <td>9784770028969</td>\n      <td>4770028962</td>\n      <td>Coin Locker Babies</td>\n      <td>村上龍</td>\n      <td>Fiction</td>\n      <td>http://books.google.com/books/content?id=87DJw...</td>\n      <td>Rescued from the lockers in which they were le...</td>\n      <td>2002.0</td>\n      <td>3.75</td>\n      <td>393.0</td>\n      <td>5560.0</td>\n      <td>Coin Locker Babies</td>\n      <td>9784770028969 Rescued from the lockers in whic...</td>\n      <td>Fiction</td>\n    </tr>\n    <tr>\n      <th>5189</th>\n      <td>9788122200850</td>\n      <td>8122200850</td>\n      <td>Cry, the Peacock</td>\n      <td>Anita Desai</td>\n      <td>Fiction</td>\n      <td>http://books.google.com/books/content?id=_QKwV...</td>\n      <td>This book is the story of a young girl obsesse...</td>\n      <td>1980.0</td>\n      <td>3.22</td>\n      <td>218.0</td>\n      <td>134.0</td>\n      <td>Cry, the Peacock</td>\n      <td>9788122200850 This book is the story of a youn...</td>\n      <td>Fiction</td>\n    </tr>\n    <tr>\n      <th>5195</th>\n      <td>9788185300535</td>\n      <td>8185300534</td>\n      <td>I Am that</td>\n      <td>Sri Nisargadatta Maharaj;Sudhakar S. Dikshit</td>\n      <td>Philosophy</td>\n      <td>http://books.google.com/books/content?id=Fv_JP...</td>\n      <td>This collection of the timeless teachings of o...</td>\n      <td>1999.0</td>\n      <td>4.51</td>\n      <td>531.0</td>\n      <td>104.0</td>\n      <td>I Am that: Talks with Sri Nisargadatta Maharaj</td>\n      <td>9788185300535 This collection of the timeless ...</td>\n      <td>Nonfiction</td>\n    </tr>\n    <tr>\n      <th>5196</th>\n      <td>9789027712059</td>\n      <td>9027712050</td>\n      <td>The Berlin Phenomenology</td>\n      <td>Georg Wilhelm Friedrich Hegel</td>\n      <td>History</td>\n      <td>http://books.google.com/books/content?id=Vy7Sk...</td>\n      <td>Since the three volume edition ofHegel's Philo...</td>\n      <td>1981.0</td>\n      <td>0.00</td>\n      <td>210.0</td>\n      <td>0.0</td>\n      <td>The Berlin Phenomenology</td>\n      <td>9789027712059 Since the three volume edition o...</td>\n      <td>Nonfiction</td>\n    </tr>\n  </tbody>\n</table>\n<p>3743 rows × 14 columns</p>\n</div>"
     },
     "execution_count": 8,
     "metadata": {},
     "output_type": "execute_result"
    }
   ],
   "source": [
    "books[~books[\"simple_categories\"].isna()]"
   ],
   "metadata": {
    "collapsed": false,
    "ExecuteTime": {
     "end_time": "2025-08-11T15:17:12.802093700Z",
     "start_time": "2025-08-11T15:17:12.761794300Z"
    }
   },
   "id": "982c0ddb3f826dbf"
  },
  {
   "cell_type": "code",
   "execution_count": 11,
   "outputs": [
    {
     "name": "stderr",
     "output_type": "stream",
     "text": [
      "Device set to use cpu\n"
     ]
    }
   ],
   "source": [
    "from transformers import pipeline\n",
    "\n",
    "categories = [\"Fiction\", \"Nonfiction\"]\n",
    "\n",
    "pipe = pipeline(\"zero-shot-classification\", model = \"facebook/bart-large-mnli\", device=0)"
   ],
   "metadata": {
    "collapsed": false,
    "ExecuteTime": {
     "end_time": "2025-08-11T15:45:35.677997900Z",
     "start_time": "2025-08-11T15:45:34.760599600Z"
    }
   },
   "id": "cb7eb32c1c1bfa9c"
  },
  {
   "cell_type": "code",
   "execution_count": 16,
   "outputs": [
    {
     "data": {
      "text/plain": "0       Fiction\n1       Fiction\n2       Fiction\n3       Fiction\n4       Fiction\n         ...   \n2359    Fiction\n2360    Fiction\n2361    Fiction\n2362    Fiction\n2363    Fiction\nName: simple_categories, Length: 2364, dtype: object"
     },
     "execution_count": 16,
     "metadata": {},
     "output_type": "execute_result"
    }
   ],
   "source": [
    "sequence = books.loc[books[\"simple_categories\"] == \"Fiction\", \"description\"].reset_index(drop=True)[0]\n",
    "\n",
    "books.loc[books[\"simple_categories\"]== \"Fiction\", \"simple_categories\"].reset_index(drop=True)"
   ],
   "metadata": {
    "collapsed": false,
    "ExecuteTime": {
     "end_time": "2025-08-11T15:46:50.027319200Z",
     "start_time": "2025-08-11T15:46:50.011315100Z"
    }
   },
   "id": "6f7b0b0c0e3743c1"
  },
  {
   "cell_type": "code",
   "execution_count": 13,
   "outputs": [
    {
     "data": {
      "text/plain": "{'sequence': 'A NOVEL THAT READERS and critics have been eagerly anticipating for over a decade, Gilead is an astonishingly imagined story of remarkable lives. John Ames is a preacher, the son of a preacher and the grandson (both maternal and paternal) of preachers. It’s 1956 in Gilead, Iowa, towards the end of the Reverend Ames’s life, and he is absorbed in recording his family’s story, a legacy for the young son he will never see grow up. Haunted by his grandfather’s presence, John tells of the rift between his grandfather and his father: the elder, an angry visionary who fought for the abolitionist cause, and his son, an ardent pacifist. He is troubled, too, by his prodigal namesake, Jack (John Ames) Boughton, his best friend’s lost son who returns to Gilead searching for forgiveness and redemption. Told in John Ames’s joyous, rambling voice that finds beauty, humour and truth in the smallest of life’s details, Gilead is a song of celebration and acceptance of the best and the worst the world has to offer. At its heart is a tale of the sacred bonds between fathers and sons, pitch-perfect in style and story, set to dazzle critics and readers alike.',\n 'labels': ['Fiction', 'Nonfiction'],\n 'scores': [0.8438267707824707, 0.1561732143163681]}"
     },
     "execution_count": 13,
     "metadata": {},
     "output_type": "execute_result"
    }
   ],
   "source": [
    "pipe(sequence, categories)"
   ],
   "metadata": {
    "collapsed": false,
    "ExecuteTime": {
     "end_time": "2025-08-11T15:45:46.509094600Z",
     "start_time": "2025-08-11T15:45:44.218514700Z"
    }
   },
   "id": "baf993fcb9cd028a"
  },
  {
   "cell_type": "code",
   "execution_count": 17,
   "outputs": [
    {
     "data": {
      "text/plain": "'Fiction'"
     },
     "execution_count": 17,
     "metadata": {},
     "output_type": "execute_result"
    }
   ],
   "source": [
    "import numpy as np\n",
    "max_index = np.argmax(pipe(sequence, categories)[\"scores\"])\n",
    "max_label =  pipe(sequence, categories)[\"labels\"][max_index]\n",
    "max_label"
   ],
   "metadata": {
    "collapsed": false,
    "ExecuteTime": {
     "end_time": "2025-08-11T15:48:48.056848100Z",
     "start_time": "2025-08-11T15:48:44.522251800Z"
    }
   },
   "id": "efbd90a8fa59cbb4"
  },
  {
   "cell_type": "code",
   "execution_count": 18,
   "outputs": [],
   "source": [
    "def generate_prediction(sequence, categories):\n",
    "    predictions = pipe(sequence, categories)\n",
    "    max_index = np.argmax(predictions[\"scores\"])\n",
    "    max_label = predictions[\"labels\"][max_index]\n",
    "    return max_label"
   ],
   "metadata": {
    "collapsed": false,
    "ExecuteTime": {
     "end_time": "2025-08-11T15:50:11.516176500Z",
     "start_time": "2025-08-11T15:50:11.501620400Z"
    }
   },
   "id": "269af7469d4ca6c0"
  },
  {
   "cell_type": "code",
   "execution_count": 20,
   "outputs": [
    {
     "name": "stderr",
     "output_type": "stream",
     "text": [
      "100%|██████████| 300/300 [08:03<00:00,  1.61s/it]\n"
     ]
    }
   ],
   "source": [
    "from tqdm import tqdm\n",
    "\n",
    "actual_categories = []\n",
    "predicted_categories = []\n",
    "\n",
    "for i in tqdm(range(0,300)):\n",
    "    sequence = books.loc[books[\"simple_categories\"]==\"Fiction\", \"description\"].reset_index(drop=True)[i]\n",
    "    predicted_categories += [generate_prediction(sequence, categories)]\n",
    "    actual_categories += [\"Fiction\"]"
   ],
   "metadata": {
    "collapsed": false,
    "ExecuteTime": {
     "end_time": "2025-08-11T16:01:17.577544900Z",
     "start_time": "2025-08-11T15:53:14.325215100Z"
    }
   },
   "id": "c01509c15e849307"
  },
  {
   "cell_type": "code",
   "execution_count": 22,
   "outputs": [
    {
     "name": "stderr",
     "output_type": "stream",
     "text": [
      "100%|██████████| 300/300 [10:01<00:00,  2.01s/it]\n"
     ]
    }
   ],
   "source": [
    "for i in tqdm(range(0,300)):\n",
    "    sequence = books.loc[books[\"simple_categories\"]==\"Nonfiction\", \"description\"].reset_index(drop=True)[i]\n",
    "    predicted_categories += [generate_prediction(sequence, categories)]\n",
    "    actual_categories += [\"Nonfiction\"]"
   ],
   "metadata": {
    "collapsed": false,
    "ExecuteTime": {
     "end_time": "2025-08-11T17:33:15.136750Z",
     "start_time": "2025-08-11T17:23:13.456347300Z"
    }
   },
   "id": "20003af564bbf2c6"
  },
  {
   "cell_type": "code",
   "execution_count": 23,
   "outputs": [
    {
     "data": {
      "text/plain": "    actual_categories predicted_categories\n0             Fiction              Fiction\n1             Fiction              Fiction\n2             Fiction              Fiction\n3             Fiction           Nonfiction\n4             Fiction              Fiction\n..                ...                  ...\n595        Nonfiction           Nonfiction\n596        Nonfiction              Fiction\n597        Nonfiction           Nonfiction\n598        Nonfiction           Nonfiction\n599        Nonfiction              Fiction\n\n[600 rows x 2 columns]",
      "text/html": "<div>\n<style scoped>\n    .dataframe tbody tr th:only-of-type {\n        vertical-align: middle;\n    }\n\n    .dataframe tbody tr th {\n        vertical-align: top;\n    }\n\n    .dataframe thead th {\n        text-align: right;\n    }\n</style>\n<table border=\"1\" class=\"dataframe\">\n  <thead>\n    <tr style=\"text-align: right;\">\n      <th></th>\n      <th>actual_categories</th>\n      <th>predicted_categories</th>\n    </tr>\n  </thead>\n  <tbody>\n    <tr>\n      <th>0</th>\n      <td>Fiction</td>\n      <td>Fiction</td>\n    </tr>\n    <tr>\n      <th>1</th>\n      <td>Fiction</td>\n      <td>Fiction</td>\n    </tr>\n    <tr>\n      <th>2</th>\n      <td>Fiction</td>\n      <td>Fiction</td>\n    </tr>\n    <tr>\n      <th>3</th>\n      <td>Fiction</td>\n      <td>Nonfiction</td>\n    </tr>\n    <tr>\n      <th>4</th>\n      <td>Fiction</td>\n      <td>Fiction</td>\n    </tr>\n    <tr>\n      <th>...</th>\n      <td>...</td>\n      <td>...</td>\n    </tr>\n    <tr>\n      <th>595</th>\n      <td>Nonfiction</td>\n      <td>Nonfiction</td>\n    </tr>\n    <tr>\n      <th>596</th>\n      <td>Nonfiction</td>\n      <td>Fiction</td>\n    </tr>\n    <tr>\n      <th>597</th>\n      <td>Nonfiction</td>\n      <td>Nonfiction</td>\n    </tr>\n    <tr>\n      <th>598</th>\n      <td>Nonfiction</td>\n      <td>Nonfiction</td>\n    </tr>\n    <tr>\n      <th>599</th>\n      <td>Nonfiction</td>\n      <td>Fiction</td>\n    </tr>\n  </tbody>\n</table>\n<p>600 rows × 2 columns</p>\n</div>"
     },
     "execution_count": 23,
     "metadata": {},
     "output_type": "execute_result"
    }
   ],
   "source": [
    "predictions_dataFrame = pd.DataFrame({\"actual_categories\": actual_categories, \"predicted_categories\": predicted_categories})\n",
    "\n",
    "predictions_dataFrame"
   ],
   "metadata": {
    "collapsed": false,
    "ExecuteTime": {
     "end_time": "2025-08-11T17:37:22.130464600Z",
     "start_time": "2025-08-11T17:37:22.122465Z"
    }
   },
   "id": "b66fa9df22c4c1d5"
  },
  {
   "cell_type": "code",
   "execution_count": 24,
   "outputs": [],
   "source": [
    "predictions_dataFrame[\"correct_prediction\"] = np.where(predictions_dataFrame[\"actual_categories\"] == predictions_dataFrame[\"predicted_categories\"], 1, 0)"
   ],
   "metadata": {
    "collapsed": false,
    "ExecuteTime": {
     "end_time": "2025-08-11T17:39:28.524181300Z",
     "start_time": "2025-08-11T17:39:28.420084200Z"
    }
   },
   "id": "dd27d827a4a2b0a7"
  },
  {
   "cell_type": "code",
   "execution_count": 25,
   "outputs": [
    {
     "data": {
      "text/plain": "0.7783333333333333"
     },
     "execution_count": 25,
     "metadata": {},
     "output_type": "execute_result"
    }
   ],
   "source": [
    "predictions_dataFrame[\"correct_prediction\"].sum()/len(predictions_dataFrame)"
   ],
   "metadata": {
    "collapsed": false,
    "ExecuteTime": {
     "end_time": "2025-08-11T17:40:22.888709300Z",
     "start_time": "2025-08-11T17:40:22.818431200Z"
    }
   },
   "id": "da38d9992a8deb0f"
  },
  {
   "cell_type": "code",
   "execution_count": 26,
   "outputs": [],
   "source": [
    "isbns = []\n",
    "predicted_catgs = []\n",
    "\n",
    "missing_catgs = books.loc[books[\"simple_categories\"].isna(), [\"isbn13\", \"description\"]].reset_index(drop=True)"
   ],
   "metadata": {
    "collapsed": false,
    "ExecuteTime": {
     "end_time": "2025-08-11T17:42:46.607908200Z",
     "start_time": "2025-08-11T17:42:46.547758400Z"
    }
   },
   "id": "70bb018846baaf58"
  },
  {
   "cell_type": "code",
   "execution_count": 27,
   "outputs": [
    {
     "name": "stderr",
     "output_type": "stream",
     "text": [
      "100%|██████████| 1454/1454 [45:52<00:00,  1.89s/it] \n"
     ]
    }
   ],
   "source": [
    "for i in tqdm(range(0, len(missing_catgs))):\n",
    "    sequence = missing_catgs[\"description\"][i]\n",
    "    predicted_catgs += [generate_prediction(sequence, categories)]\n",
    "    isbns += [missing_catgs[\"isbn13\"][i]]"
   ],
   "metadata": {
    "collapsed": false,
    "ExecuteTime": {
     "end_time": "2025-08-11T18:45:02.539382700Z",
     "start_time": "2025-08-11T17:59:10.134898300Z"
    }
   },
   "id": "201ed9421fc3ce4d"
  },
  {
   "cell_type": "code",
   "execution_count": 28,
   "outputs": [],
   "source": [
    "missing_predicted_dataFrame = pd.DataFrame({\"isbn13\": isbns, \"predicted_categories\": predicted_catgs})"
   ],
   "metadata": {
    "collapsed": false,
    "ExecuteTime": {
     "end_time": "2025-08-11T19:05:40.312176200Z",
     "start_time": "2025-08-11T19:05:40.259602200Z"
    }
   },
   "id": "af39fecff541e0dc"
  },
  {
   "cell_type": "code",
   "execution_count": 29,
   "outputs": [
    {
     "data": {
      "text/plain": "             isbn13 predicted_categories\n0     9780002261982              Fiction\n1     9780006280897           Nonfiction\n2     9780006280934           Nonfiction\n3     9780006380832           Nonfiction\n4     9780006470229              Fiction\n...             ...                  ...\n1449  9788125026600           Nonfiction\n1450  9788171565641              Fiction\n1451  9788172235222              Fiction\n1452  9788173031014           Nonfiction\n1453  9788179921623              Fiction\n\n[1454 rows x 2 columns]",
      "text/html": "<div>\n<style scoped>\n    .dataframe tbody tr th:only-of-type {\n        vertical-align: middle;\n    }\n\n    .dataframe tbody tr th {\n        vertical-align: top;\n    }\n\n    .dataframe thead th {\n        text-align: right;\n    }\n</style>\n<table border=\"1\" class=\"dataframe\">\n  <thead>\n    <tr style=\"text-align: right;\">\n      <th></th>\n      <th>isbn13</th>\n      <th>predicted_categories</th>\n    </tr>\n  </thead>\n  <tbody>\n    <tr>\n      <th>0</th>\n      <td>9780002261982</td>\n      <td>Fiction</td>\n    </tr>\n    <tr>\n      <th>1</th>\n      <td>9780006280897</td>\n      <td>Nonfiction</td>\n    </tr>\n    <tr>\n      <th>2</th>\n      <td>9780006280934</td>\n      <td>Nonfiction</td>\n    </tr>\n    <tr>\n      <th>3</th>\n      <td>9780006380832</td>\n      <td>Nonfiction</td>\n    </tr>\n    <tr>\n      <th>4</th>\n      <td>9780006470229</td>\n      <td>Fiction</td>\n    </tr>\n    <tr>\n      <th>...</th>\n      <td>...</td>\n      <td>...</td>\n    </tr>\n    <tr>\n      <th>1449</th>\n      <td>9788125026600</td>\n      <td>Nonfiction</td>\n    </tr>\n    <tr>\n      <th>1450</th>\n      <td>9788171565641</td>\n      <td>Fiction</td>\n    </tr>\n    <tr>\n      <th>1451</th>\n      <td>9788172235222</td>\n      <td>Fiction</td>\n    </tr>\n    <tr>\n      <th>1452</th>\n      <td>9788173031014</td>\n      <td>Nonfiction</td>\n    </tr>\n    <tr>\n      <th>1453</th>\n      <td>9788179921623</td>\n      <td>Fiction</td>\n    </tr>\n  </tbody>\n</table>\n<p>1454 rows × 2 columns</p>\n</div>"
     },
     "execution_count": 29,
     "metadata": {},
     "output_type": "execute_result"
    }
   ],
   "source": [
    "missing_predicted_dataFrame"
   ],
   "metadata": {
    "collapsed": false,
    "ExecuteTime": {
     "end_time": "2025-08-11T19:21:25.036638600Z",
     "start_time": "2025-08-11T19:21:24.979128300Z"
    }
   },
   "id": "5223fc59b5632c"
  },
  {
   "cell_type": "code",
   "execution_count": 33,
   "outputs": [],
   "source": [
    "books = pd.merge(books, missing_predicted_dataFrame, on=\"isbn13\", how=\"left\")\n",
    "books[\"simple_categories\"] = np.where(books[\"simple_categories\"].isna(), books[\"predicted_categories_x\"], books[\"simple_categories\"])\n",
    "\n",
    "books = books.drop(columns = [\"predicted_categories_x\", \"predicted_categories_y\"])"
   ],
   "metadata": {
    "collapsed": false,
    "ExecuteTime": {
     "end_time": "2025-08-11T19:31:03.415707200Z",
     "start_time": "2025-08-11T19:31:03.382939300Z"
    }
   },
   "id": "826e1adc90aee2fe"
  },
  {
   "cell_type": "code",
   "execution_count": 37,
   "outputs": [],
   "source": [
    "books = books.drop(columns = [\"predicted_categories\"])"
   ],
   "metadata": {
    "collapsed": false,
    "ExecuteTime": {
     "end_time": "2025-08-11T19:32:30.969874700Z",
     "start_time": "2025-08-11T19:32:30.944762800Z"
    }
   },
   "id": "ba0ae3bb29a73988"
  },
  {
   "cell_type": "code",
   "execution_count": 38,
   "outputs": [
    {
     "data": {
      "text/plain": "             isbn13      isbn10  \\\n0     9780002005883  0002005883   \n1     9780002261982  0002261987   \n2     9780006178736  0006178731   \n3     9780006280897  0006280897   \n4     9780006280934  0006280935   \n...             ...         ...   \n5192  9788172235222  8172235224   \n5193  9788173031014  8173031010   \n5194  9788179921623  817992162X   \n5195  9788185300535  8185300534   \n5196  9789027712059  9027712050   \n\n                                                  title  \\\n0                                                Gilead   \n1                                          Spider's Web   \n2                                        Rage of angels   \n3                                        The Four Loves   \n4                                   The Problem of Pain   \n...                                                 ...   \n5192                                  Mistaken Identity   \n5193                                Journey to the East   \n5194  The Monk Who Sold His Ferrari: A Fable About F...   \n5195                                          I Am that   \n5196                           The Berlin Phenomenology   \n\n                                           authors  \\\n0                               Marilynne Robinson   \n1                  Charles Osborne;Agatha Christie   \n2                                   Sidney Sheldon   \n3                              Clive Staples Lewis   \n4                              Clive Staples Lewis   \n...                                            ...   \n5192                              Nayantara Sahgal   \n5193                                 Hermann Hesse   \n5194                                  Robin Sharma   \n5195  Sri Nisargadatta Maharaj;Sudhakar S. Dikshit   \n5196                 Georg Wilhelm Friedrich Hegel   \n\n                         categories  \\\n0                           Fiction   \n1     Detective and mystery stories   \n2                           Fiction   \n3                    Christian life   \n4                    Christian life   \n...                             ...   \n5192        Indic fiction (English)   \n5193              Adventure stories   \n5194               Health & Fitness   \n5195                     Philosophy   \n5196                        History   \n\n                                              thumbnail  \\\n0     http://books.google.com/books/content?id=KQZCP...   \n1     http://books.google.com/books/content?id=gA5GP...   \n2     http://books.google.com/books/content?id=FKo2T...   \n3     http://books.google.com/books/content?id=XhQ5X...   \n4     http://books.google.com/books/content?id=Kk-uV...   \n...                                                 ...   \n5192  http://books.google.com/books/content?id=q-tKP...   \n5193  http://books.google.com/books/content?id=rq6JP...   \n5194  http://books.google.com/books/content?id=c_7mf...   \n5195  http://books.google.com/books/content?id=Fv_JP...   \n5196  http://books.google.com/books/content?id=Vy7Sk...   \n\n                                            description  published_year  \\\n0     A NOVEL THAT READERS and critics have been eag...          2004.0   \n1     A new 'Christie for Christmas' -- a full-lengt...          2000.0   \n2     A memorable, mesmerizing heroine Jennifer -- b...          1993.0   \n3     Lewis' work on the nature of love divides love...          2002.0   \n4     \"In The Problem of Pain, C.S. Lewis, one of th...          2002.0   \n...                                                 ...             ...   \n5192  On A Train Journey Home To North India After L...          2003.0   \n5193  This book tells the tale of a man who goes on ...          2002.0   \n5194  Wisdom to Create a Life of Passion, Purpose, a...          2003.0   \n5195  This collection of the timeless teachings of o...          1999.0   \n5196  Since the three volume edition ofHegel's Philo...          1981.0   \n\n      average_rating  num_pages  ratings_count  \\\n0               3.85      247.0          361.0   \n1               3.83      241.0         5164.0   \n2               3.93      512.0        29532.0   \n3               4.15      170.0        33684.0   \n4               4.09      176.0        37569.0   \n...              ...        ...            ...   \n5192            2.93      324.0            0.0   \n5193            3.70      175.0           24.0   \n5194            3.82      198.0         1568.0   \n5195            4.51      531.0          104.0   \n5196            0.00      210.0            0.0   \n\n                                     title_and_subtitle  \\\n0                                                Gilead   \n1                                 Spider's Web: A Novel   \n2                                        Rage of angels   \n3                                        The Four Loves   \n4                                   The Problem of Pain   \n...                                                 ...   \n5192                                  Mistaken Identity   \n5193                                Journey to the East   \n5194  The Monk Who Sold His Ferrari: A Fable About F...   \n5195     I Am that: Talks with Sri Nisargadatta Maharaj   \n5196                           The Berlin Phenomenology   \n\n                                     tagged_description simple_categories  \n0     9780002005883 A NOVEL THAT READERS and critics...           Fiction  \n1     9780002261982 A new 'Christie for Christmas' -...           Fiction  \n2     9780006178736 A memorable, mesmerizing heroine...           Fiction  \n3     9780006280897 Lewis' work on the nature of lov...        Nonfiction  \n4     9780006280934 \"In The Problem of Pain, C.S. Le...        Nonfiction  \n...                                                 ...               ...  \n5192  9788172235222 On A Train Journey Home To North...           Fiction  \n5193  9788173031014 This book tells the tale of a ma...        Nonfiction  \n5194  9788179921623 Wisdom to Create a Life of Passi...           Fiction  \n5195  9788185300535 This collection of the timeless ...        Nonfiction  \n5196  9789027712059 Since the three volume edition o...        Nonfiction  \n\n[5197 rows x 14 columns]",
      "text/html": "<div>\n<style scoped>\n    .dataframe tbody tr th:only-of-type {\n        vertical-align: middle;\n    }\n\n    .dataframe tbody tr th {\n        vertical-align: top;\n    }\n\n    .dataframe thead th {\n        text-align: right;\n    }\n</style>\n<table border=\"1\" class=\"dataframe\">\n  <thead>\n    <tr style=\"text-align: right;\">\n      <th></th>\n      <th>isbn13</th>\n      <th>isbn10</th>\n      <th>title</th>\n      <th>authors</th>\n      <th>categories</th>\n      <th>thumbnail</th>\n      <th>description</th>\n      <th>published_year</th>\n      <th>average_rating</th>\n      <th>num_pages</th>\n      <th>ratings_count</th>\n      <th>title_and_subtitle</th>\n      <th>tagged_description</th>\n      <th>simple_categories</th>\n    </tr>\n  </thead>\n  <tbody>\n    <tr>\n      <th>0</th>\n      <td>9780002005883</td>\n      <td>0002005883</td>\n      <td>Gilead</td>\n      <td>Marilynne Robinson</td>\n      <td>Fiction</td>\n      <td>http://books.google.com/books/content?id=KQZCP...</td>\n      <td>A NOVEL THAT READERS and critics have been eag...</td>\n      <td>2004.0</td>\n      <td>3.85</td>\n      <td>247.0</td>\n      <td>361.0</td>\n      <td>Gilead</td>\n      <td>9780002005883 A NOVEL THAT READERS and critics...</td>\n      <td>Fiction</td>\n    </tr>\n    <tr>\n      <th>1</th>\n      <td>9780002261982</td>\n      <td>0002261987</td>\n      <td>Spider's Web</td>\n      <td>Charles Osborne;Agatha Christie</td>\n      <td>Detective and mystery stories</td>\n      <td>http://books.google.com/books/content?id=gA5GP...</td>\n      <td>A new 'Christie for Christmas' -- a full-lengt...</td>\n      <td>2000.0</td>\n      <td>3.83</td>\n      <td>241.0</td>\n      <td>5164.0</td>\n      <td>Spider's Web: A Novel</td>\n      <td>9780002261982 A new 'Christie for Christmas' -...</td>\n      <td>Fiction</td>\n    </tr>\n    <tr>\n      <th>2</th>\n      <td>9780006178736</td>\n      <td>0006178731</td>\n      <td>Rage of angels</td>\n      <td>Sidney Sheldon</td>\n      <td>Fiction</td>\n      <td>http://books.google.com/books/content?id=FKo2T...</td>\n      <td>A memorable, mesmerizing heroine Jennifer -- b...</td>\n      <td>1993.0</td>\n      <td>3.93</td>\n      <td>512.0</td>\n      <td>29532.0</td>\n      <td>Rage of angels</td>\n      <td>9780006178736 A memorable, mesmerizing heroine...</td>\n      <td>Fiction</td>\n    </tr>\n    <tr>\n      <th>3</th>\n      <td>9780006280897</td>\n      <td>0006280897</td>\n      <td>The Four Loves</td>\n      <td>Clive Staples Lewis</td>\n      <td>Christian life</td>\n      <td>http://books.google.com/books/content?id=XhQ5X...</td>\n      <td>Lewis' work on the nature of love divides love...</td>\n      <td>2002.0</td>\n      <td>4.15</td>\n      <td>170.0</td>\n      <td>33684.0</td>\n      <td>The Four Loves</td>\n      <td>9780006280897 Lewis' work on the nature of lov...</td>\n      <td>Nonfiction</td>\n    </tr>\n    <tr>\n      <th>4</th>\n      <td>9780006280934</td>\n      <td>0006280935</td>\n      <td>The Problem of Pain</td>\n      <td>Clive Staples Lewis</td>\n      <td>Christian life</td>\n      <td>http://books.google.com/books/content?id=Kk-uV...</td>\n      <td>\"In The Problem of Pain, C.S. Lewis, one of th...</td>\n      <td>2002.0</td>\n      <td>4.09</td>\n      <td>176.0</td>\n      <td>37569.0</td>\n      <td>The Problem of Pain</td>\n      <td>9780006280934 \"In The Problem of Pain, C.S. Le...</td>\n      <td>Nonfiction</td>\n    </tr>\n    <tr>\n      <th>...</th>\n      <td>...</td>\n      <td>...</td>\n      <td>...</td>\n      <td>...</td>\n      <td>...</td>\n      <td>...</td>\n      <td>...</td>\n      <td>...</td>\n      <td>...</td>\n      <td>...</td>\n      <td>...</td>\n      <td>...</td>\n      <td>...</td>\n      <td>...</td>\n    </tr>\n    <tr>\n      <th>5192</th>\n      <td>9788172235222</td>\n      <td>8172235224</td>\n      <td>Mistaken Identity</td>\n      <td>Nayantara Sahgal</td>\n      <td>Indic fiction (English)</td>\n      <td>http://books.google.com/books/content?id=q-tKP...</td>\n      <td>On A Train Journey Home To North India After L...</td>\n      <td>2003.0</td>\n      <td>2.93</td>\n      <td>324.0</td>\n      <td>0.0</td>\n      <td>Mistaken Identity</td>\n      <td>9788172235222 On A Train Journey Home To North...</td>\n      <td>Fiction</td>\n    </tr>\n    <tr>\n      <th>5193</th>\n      <td>9788173031014</td>\n      <td>8173031010</td>\n      <td>Journey to the East</td>\n      <td>Hermann Hesse</td>\n      <td>Adventure stories</td>\n      <td>http://books.google.com/books/content?id=rq6JP...</td>\n      <td>This book tells the tale of a man who goes on ...</td>\n      <td>2002.0</td>\n      <td>3.70</td>\n      <td>175.0</td>\n      <td>24.0</td>\n      <td>Journey to the East</td>\n      <td>9788173031014 This book tells the tale of a ma...</td>\n      <td>Nonfiction</td>\n    </tr>\n    <tr>\n      <th>5194</th>\n      <td>9788179921623</td>\n      <td>817992162X</td>\n      <td>The Monk Who Sold His Ferrari: A Fable About F...</td>\n      <td>Robin Sharma</td>\n      <td>Health &amp; Fitness</td>\n      <td>http://books.google.com/books/content?id=c_7mf...</td>\n      <td>Wisdom to Create a Life of Passion, Purpose, a...</td>\n      <td>2003.0</td>\n      <td>3.82</td>\n      <td>198.0</td>\n      <td>1568.0</td>\n      <td>The Monk Who Sold His Ferrari: A Fable About F...</td>\n      <td>9788179921623 Wisdom to Create a Life of Passi...</td>\n      <td>Fiction</td>\n    </tr>\n    <tr>\n      <th>5195</th>\n      <td>9788185300535</td>\n      <td>8185300534</td>\n      <td>I Am that</td>\n      <td>Sri Nisargadatta Maharaj;Sudhakar S. Dikshit</td>\n      <td>Philosophy</td>\n      <td>http://books.google.com/books/content?id=Fv_JP...</td>\n      <td>This collection of the timeless teachings of o...</td>\n      <td>1999.0</td>\n      <td>4.51</td>\n      <td>531.0</td>\n      <td>104.0</td>\n      <td>I Am that: Talks with Sri Nisargadatta Maharaj</td>\n      <td>9788185300535 This collection of the timeless ...</td>\n      <td>Nonfiction</td>\n    </tr>\n    <tr>\n      <th>5196</th>\n      <td>9789027712059</td>\n      <td>9027712050</td>\n      <td>The Berlin Phenomenology</td>\n      <td>Georg Wilhelm Friedrich Hegel</td>\n      <td>History</td>\n      <td>http://books.google.com/books/content?id=Vy7Sk...</td>\n      <td>Since the three volume edition ofHegel's Philo...</td>\n      <td>1981.0</td>\n      <td>0.00</td>\n      <td>210.0</td>\n      <td>0.0</td>\n      <td>The Berlin Phenomenology</td>\n      <td>9789027712059 Since the three volume edition o...</td>\n      <td>Nonfiction</td>\n    </tr>\n  </tbody>\n</table>\n<p>5197 rows × 14 columns</p>\n</div>"
     },
     "execution_count": 38,
     "metadata": {},
     "output_type": "execute_result"
    }
   ],
   "source": [
    "books"
   ],
   "metadata": {
    "collapsed": false,
    "ExecuteTime": {
     "end_time": "2025-08-11T19:32:35.799805Z",
     "start_time": "2025-08-11T19:32:35.679920400Z"
    }
   },
   "id": "bd39210b9aa5b8e3"
  },
  {
   "cell_type": "code",
   "execution_count": 40,
   "outputs": [
    {
     "data": {
      "text/plain": "             isbn13      isbn10                                     title  \\\n24    9780006513087  0006513085                                   Gravity   \n475   9780099410355  0099410354                                   Traitor   \n478   9780099422341  0099422344                            Yeats is Dead!   \n491   9780099446729  0099446723                            Blackwood Farm   \n1090  9780261102422  0261102427                          The Silmarillion   \n1435  9780340837955  0340837950                Stranger in a Strange Land   \n1439  9780345251220  0345251229                      Visions from Nowhere   \n2845  9780575075597  0575075597                                    Replay   \n2860  9780590254762  0590254766      The lion, the witch and the wardrobe   \n3288  9780739423851  0739423851                           Wizard's Castle   \n3289  9780739439708  0739439707                              Time Quartet   \n3563  9780760728505  076072850X              20,000 Leagues Under the Sea   \n4483  9781416502043  1416502041  The Voyage of the Jerle Shannara Trilogy   \n4979  9781841494081  1841494089            The Darkness that Comes Before   \n5040  9781857231359  185723135X                            Use of Weapons   \n5057  9781857989342  1857989341                       The Gods Themselves   \n\n                        authors       categories  \\\n24               Tess Gerritsen  Science fiction   \n475     Matthew Woodring Stover  Science fiction   \n478             Joseph O'Connor           Comedy   \n491                   Anne Rice           Horror   \n1090  John Ronald Reuel Tolkien          Fantasy   \n1435         Robert A. Heinlein  Science fiction   \n1439              William Arrow  Science fiction   \n2845               Ken Grimwood          Fantasy   \n2860        Clive Staples Lewis          Fantasy   \n3288          Diana Wynne Jones          Fantasy   \n3289          Madeleine L'Engle  Science fiction   \n3563                Jules Verne  Science fiction   \n4483               Terry Brooks          Fantasy   \n4979            R. Scott Bakker          Fantasy   \n5040                 Iain Banks  Science fiction   \n5057               Isaac Asimov  Science fiction   \n\n                                              thumbnail  \\\n24    http://books.google.com/books/content?id=KI66c...   \n475   http://books.google.com/books/content?id=VbICO...   \n478   http://books.google.com/books/content?id=DrE3I...   \n491   http://books.google.com/books/content?id=cIn8T...   \n1090  http://books.google.com/books/content?id=22ePu...   \n1435  http://books.google.com/books/content?id=ZQhiP...   \n1439                                                NaN   \n2845  http://books.google.com/books/content?id=9vmNP...   \n2860                                                NaN   \n3288  http://books.google.com/books/content?id=hB7hA...   \n3289                                                NaN   \n3563                                                NaN   \n4483  http://books.google.com/books/content?id=jqVsA...   \n4979  http://books.google.com/books/content?id=BG8qG...   \n5040                                                NaN   \n5057  http://books.google.com/books/content?id=8ClIP...   \n\n                                            description  published_year  \\\n24    Emma Watson a research physician has been trai...          2004.0   \n475   From the depths of catastrophe, a glimmer of h...          2002.0   \n478   In aid of Amnesty International, this is a bri...          2002.0   \n491   Lestat Is Back, Saviour And Demon, Presiding O...          2003.0   \n1090  Tolkien's Silmarillion is the core work of the...          1999.0   \n1435  Epic, entertaining, Stranger in a Strange Land...          2005.0   \n1439  The first novel in the series, \"Return to the ...          1976.0   \n2845  At forty-three Jeff Winston is tired of his lo...          2005.0   \n2860  Four English school children enter the magic l...          1995.0   \n3288  Howl's moving castle - Eldest of three sisters...          2002.0   \n3289  Blending magic with quantum physics, Madeleine...          2003.0   \n3563  Retells the adventures of a French professor a...          2002.0   \n4483  When the body of a half-drowned elf is found f...          2004.0   \n4979  A score of centuries has passed since the Firs...          2005.0   \n5040  The man known as Cheradenine Zakalwe was one o...          1992.0   \n5057  In the year 2100, mankind on Earth, settlers i...          2000.0   \n\n      average_rating  num_pages  ratings_count  \\\n24              4.04      342.0         8024.0   \n475             4.00      320.0         6765.0   \n478             3.39      298.0           34.0   \n491             3.86      774.0        26145.0   \n1090            3.91      384.0          253.0   \n1435            3.92      672.0          563.0   \n1439            3.23      183.0           10.0   \n2845            4.16      272.0          412.0   \n2860            4.21      189.0          860.0   \n3288            4.44      376.0          439.0   \n3289            4.35      646.0          165.0   \n3563            3.88      394.0       135778.0   \n4483            4.26     1260.0           84.0   \n4979            3.79      638.0          317.0   \n5040            4.19      411.0        30779.0   \n5057            4.09      288.0        41304.0   \n\n                                    title_and_subtitle  \\\n24                                             Gravity   \n475                                            Traitor   \n478   Yeats is Dead!: A Novel by Fifteen Irish Writers   \n491                                     Blackwood Farm   \n1090                                  The Silmarillion   \n1435                        Stranger in a Strange Land   \n1439                              Visions from Nowhere   \n2845                                            Replay   \n2860              The lion, the witch and the wardrobe   \n3288                                   Wizard's Castle   \n3289                                      Time Quartet   \n3563                      20,000 Leagues Under the Sea   \n4483          The Voyage of the Jerle Shannara Trilogy   \n4979                    The Darkness that Comes Before   \n5040                                    Use of Weapons   \n5057                               The Gods Themselves   \n\n                                     tagged_description simple_categories  \n24    9780006513087 Emma Watson a research physician...        Nonfiction  \n475   9780099410355 From the depths of catastrophe, ...           Fiction  \n478   9780099422341 In aid of Amnesty International,...           Fiction  \n491   9780099446729 Lestat Is Back, Saviour And Demo...           Fiction  \n1090  9780261102422 Tolkien's Silmarillion is the co...           Fiction  \n1435  9780340837955 Epic, entertaining, Stranger in ...           Fiction  \n1439  9780345251220 The first novel in the series, \"...           Fiction  \n2845  9780575075597 At forty-three Jeff Winston is t...           Fiction  \n2860  9780590254762 Four English school children ent...        Nonfiction  \n3288  9780739423851 Howl's moving castle - Eldest of...           Fiction  \n3289  9780739439708 Blending magic with quantum phys...           Fiction  \n3563  9780760728505 Retells the adventures of a Fren...           Fiction  \n4483  9781416502043 When the body of a half-drowned ...           Fiction  \n4979  9781841494081 A score of centuries has passed ...        Nonfiction  \n5040  9781857231359 The man known as Cheradenine Zak...        Nonfiction  \n5057  9781857989342 In the year 2100, mankind on Ear...           Fiction  ",
      "text/html": "<div>\n<style scoped>\n    .dataframe tbody tr th:only-of-type {\n        vertical-align: middle;\n    }\n\n    .dataframe tbody tr th {\n        vertical-align: top;\n    }\n\n    .dataframe thead th {\n        text-align: right;\n    }\n</style>\n<table border=\"1\" class=\"dataframe\">\n  <thead>\n    <tr style=\"text-align: right;\">\n      <th></th>\n      <th>isbn13</th>\n      <th>isbn10</th>\n      <th>title</th>\n      <th>authors</th>\n      <th>categories</th>\n      <th>thumbnail</th>\n      <th>description</th>\n      <th>published_year</th>\n      <th>average_rating</th>\n      <th>num_pages</th>\n      <th>ratings_count</th>\n      <th>title_and_subtitle</th>\n      <th>tagged_description</th>\n      <th>simple_categories</th>\n    </tr>\n  </thead>\n  <tbody>\n    <tr>\n      <th>24</th>\n      <td>9780006513087</td>\n      <td>0006513085</td>\n      <td>Gravity</td>\n      <td>Tess Gerritsen</td>\n      <td>Science fiction</td>\n      <td>http://books.google.com/books/content?id=KI66c...</td>\n      <td>Emma Watson a research physician has been trai...</td>\n      <td>2004.0</td>\n      <td>4.04</td>\n      <td>342.0</td>\n      <td>8024.0</td>\n      <td>Gravity</td>\n      <td>9780006513087 Emma Watson a research physician...</td>\n      <td>Nonfiction</td>\n    </tr>\n    <tr>\n      <th>475</th>\n      <td>9780099410355</td>\n      <td>0099410354</td>\n      <td>Traitor</td>\n      <td>Matthew Woodring Stover</td>\n      <td>Science fiction</td>\n      <td>http://books.google.com/books/content?id=VbICO...</td>\n      <td>From the depths of catastrophe, a glimmer of h...</td>\n      <td>2002.0</td>\n      <td>4.00</td>\n      <td>320.0</td>\n      <td>6765.0</td>\n      <td>Traitor</td>\n      <td>9780099410355 From the depths of catastrophe, ...</td>\n      <td>Fiction</td>\n    </tr>\n    <tr>\n      <th>478</th>\n      <td>9780099422341</td>\n      <td>0099422344</td>\n      <td>Yeats is Dead!</td>\n      <td>Joseph O'Connor</td>\n      <td>Comedy</td>\n      <td>http://books.google.com/books/content?id=DrE3I...</td>\n      <td>In aid of Amnesty International, this is a bri...</td>\n      <td>2002.0</td>\n      <td>3.39</td>\n      <td>298.0</td>\n      <td>34.0</td>\n      <td>Yeats is Dead!: A Novel by Fifteen Irish Writers</td>\n      <td>9780099422341 In aid of Amnesty International,...</td>\n      <td>Fiction</td>\n    </tr>\n    <tr>\n      <th>491</th>\n      <td>9780099446729</td>\n      <td>0099446723</td>\n      <td>Blackwood Farm</td>\n      <td>Anne Rice</td>\n      <td>Horror</td>\n      <td>http://books.google.com/books/content?id=cIn8T...</td>\n      <td>Lestat Is Back, Saviour And Demon, Presiding O...</td>\n      <td>2003.0</td>\n      <td>3.86</td>\n      <td>774.0</td>\n      <td>26145.0</td>\n      <td>Blackwood Farm</td>\n      <td>9780099446729 Lestat Is Back, Saviour And Demo...</td>\n      <td>Fiction</td>\n    </tr>\n    <tr>\n      <th>1090</th>\n      <td>9780261102422</td>\n      <td>0261102427</td>\n      <td>The Silmarillion</td>\n      <td>John Ronald Reuel Tolkien</td>\n      <td>Fantasy</td>\n      <td>http://books.google.com/books/content?id=22ePu...</td>\n      <td>Tolkien's Silmarillion is the core work of the...</td>\n      <td>1999.0</td>\n      <td>3.91</td>\n      <td>384.0</td>\n      <td>253.0</td>\n      <td>The Silmarillion</td>\n      <td>9780261102422 Tolkien's Silmarillion is the co...</td>\n      <td>Fiction</td>\n    </tr>\n    <tr>\n      <th>1435</th>\n      <td>9780340837955</td>\n      <td>0340837950</td>\n      <td>Stranger in a Strange Land</td>\n      <td>Robert A. Heinlein</td>\n      <td>Science fiction</td>\n      <td>http://books.google.com/books/content?id=ZQhiP...</td>\n      <td>Epic, entertaining, Stranger in a Strange Land...</td>\n      <td>2005.0</td>\n      <td>3.92</td>\n      <td>672.0</td>\n      <td>563.0</td>\n      <td>Stranger in a Strange Land</td>\n      <td>9780340837955 Epic, entertaining, Stranger in ...</td>\n      <td>Fiction</td>\n    </tr>\n    <tr>\n      <th>1439</th>\n      <td>9780345251220</td>\n      <td>0345251229</td>\n      <td>Visions from Nowhere</td>\n      <td>William Arrow</td>\n      <td>Science fiction</td>\n      <td>NaN</td>\n      <td>The first novel in the series, \"Return to the ...</td>\n      <td>1976.0</td>\n      <td>3.23</td>\n      <td>183.0</td>\n      <td>10.0</td>\n      <td>Visions from Nowhere</td>\n      <td>9780345251220 The first novel in the series, \"...</td>\n      <td>Fiction</td>\n    </tr>\n    <tr>\n      <th>2845</th>\n      <td>9780575075597</td>\n      <td>0575075597</td>\n      <td>Replay</td>\n      <td>Ken Grimwood</td>\n      <td>Fantasy</td>\n      <td>http://books.google.com/books/content?id=9vmNP...</td>\n      <td>At forty-three Jeff Winston is tired of his lo...</td>\n      <td>2005.0</td>\n      <td>4.16</td>\n      <td>272.0</td>\n      <td>412.0</td>\n      <td>Replay</td>\n      <td>9780575075597 At forty-three Jeff Winston is t...</td>\n      <td>Fiction</td>\n    </tr>\n    <tr>\n      <th>2860</th>\n      <td>9780590254762</td>\n      <td>0590254766</td>\n      <td>The lion, the witch and the wardrobe</td>\n      <td>Clive Staples Lewis</td>\n      <td>Fantasy</td>\n      <td>NaN</td>\n      <td>Four English school children enter the magic l...</td>\n      <td>1995.0</td>\n      <td>4.21</td>\n      <td>189.0</td>\n      <td>860.0</td>\n      <td>The lion, the witch and the wardrobe</td>\n      <td>9780590254762 Four English school children ent...</td>\n      <td>Nonfiction</td>\n    </tr>\n    <tr>\n      <th>3288</th>\n      <td>9780739423851</td>\n      <td>0739423851</td>\n      <td>Wizard's Castle</td>\n      <td>Diana Wynne Jones</td>\n      <td>Fantasy</td>\n      <td>http://books.google.com/books/content?id=hB7hA...</td>\n      <td>Howl's moving castle - Eldest of three sisters...</td>\n      <td>2002.0</td>\n      <td>4.44</td>\n      <td>376.0</td>\n      <td>439.0</td>\n      <td>Wizard's Castle</td>\n      <td>9780739423851 Howl's moving castle - Eldest of...</td>\n      <td>Fiction</td>\n    </tr>\n    <tr>\n      <th>3289</th>\n      <td>9780739439708</td>\n      <td>0739439707</td>\n      <td>Time Quartet</td>\n      <td>Madeleine L'Engle</td>\n      <td>Science fiction</td>\n      <td>NaN</td>\n      <td>Blending magic with quantum physics, Madeleine...</td>\n      <td>2003.0</td>\n      <td>4.35</td>\n      <td>646.0</td>\n      <td>165.0</td>\n      <td>Time Quartet</td>\n      <td>9780739439708 Blending magic with quantum phys...</td>\n      <td>Fiction</td>\n    </tr>\n    <tr>\n      <th>3563</th>\n      <td>9780760728505</td>\n      <td>076072850X</td>\n      <td>20,000 Leagues Under the Sea</td>\n      <td>Jules Verne</td>\n      <td>Science fiction</td>\n      <td>NaN</td>\n      <td>Retells the adventures of a French professor a...</td>\n      <td>2002.0</td>\n      <td>3.88</td>\n      <td>394.0</td>\n      <td>135778.0</td>\n      <td>20,000 Leagues Under the Sea</td>\n      <td>9780760728505 Retells the adventures of a Fren...</td>\n      <td>Fiction</td>\n    </tr>\n    <tr>\n      <th>4483</th>\n      <td>9781416502043</td>\n      <td>1416502041</td>\n      <td>The Voyage of the Jerle Shannara Trilogy</td>\n      <td>Terry Brooks</td>\n      <td>Fantasy</td>\n      <td>http://books.google.com/books/content?id=jqVsA...</td>\n      <td>When the body of a half-drowned elf is found f...</td>\n      <td>2004.0</td>\n      <td>4.26</td>\n      <td>1260.0</td>\n      <td>84.0</td>\n      <td>The Voyage of the Jerle Shannara Trilogy</td>\n      <td>9781416502043 When the body of a half-drowned ...</td>\n      <td>Fiction</td>\n    </tr>\n    <tr>\n      <th>4979</th>\n      <td>9781841494081</td>\n      <td>1841494089</td>\n      <td>The Darkness that Comes Before</td>\n      <td>R. Scott Bakker</td>\n      <td>Fantasy</td>\n      <td>http://books.google.com/books/content?id=BG8qG...</td>\n      <td>A score of centuries has passed since the Firs...</td>\n      <td>2005.0</td>\n      <td>3.79</td>\n      <td>638.0</td>\n      <td>317.0</td>\n      <td>The Darkness that Comes Before</td>\n      <td>9781841494081 A score of centuries has passed ...</td>\n      <td>Nonfiction</td>\n    </tr>\n    <tr>\n      <th>5040</th>\n      <td>9781857231359</td>\n      <td>185723135X</td>\n      <td>Use of Weapons</td>\n      <td>Iain Banks</td>\n      <td>Science fiction</td>\n      <td>NaN</td>\n      <td>The man known as Cheradenine Zakalwe was one o...</td>\n      <td>1992.0</td>\n      <td>4.19</td>\n      <td>411.0</td>\n      <td>30779.0</td>\n      <td>Use of Weapons</td>\n      <td>9781857231359 The man known as Cheradenine Zak...</td>\n      <td>Nonfiction</td>\n    </tr>\n    <tr>\n      <th>5057</th>\n      <td>9781857989342</td>\n      <td>1857989341</td>\n      <td>The Gods Themselves</td>\n      <td>Isaac Asimov</td>\n      <td>Science fiction</td>\n      <td>http://books.google.com/books/content?id=8ClIP...</td>\n      <td>In the year 2100, mankind on Earth, settlers i...</td>\n      <td>2000.0</td>\n      <td>4.09</td>\n      <td>288.0</td>\n      <td>41304.0</td>\n      <td>The Gods Themselves</td>\n      <td>9781857989342 In the year 2100, mankind on Ear...</td>\n      <td>Fiction</td>\n    </tr>\n  </tbody>\n</table>\n</div>"
     },
     "execution_count": 40,
     "metadata": {},
     "output_type": "execute_result"
    }
   ],
   "source": [
    "books[books[\"categories\"].str.lower().isin([\n",
    "    \"romance\",\n",
    "    \"science fiction\",\n",
    "    \"scifi\",\n",
    "    \"fantasy\",\n",
    "    \"horror\",\n",
    "    \"mystery\",\n",
    "    \"thriller\",\n",
    "    \"comedy\",\n",
    "    \"crime\",\n",
    "    \"historical\"\n",
    "])]"
   ],
   "metadata": {
    "collapsed": false,
    "ExecuteTime": {
     "end_time": "2025-08-11T19:36:03.665678800Z",
     "start_time": "2025-08-11T19:36:03.625380900Z"
    }
   },
   "id": "9364225c7ec6fbf6"
  },
  {
   "cell_type": "code",
   "execution_count": 41,
   "outputs": [],
   "source": [
    "books.to_csv(\"books_with_categories.csv\", index = False)"
   ],
   "metadata": {
    "collapsed": false,
    "ExecuteTime": {
     "end_time": "2025-08-11T19:36:57.037268400Z",
     "start_time": "2025-08-11T19:36:56.863509800Z"
    }
   },
   "id": "241f6a4cbbec03da"
  },
  {
   "cell_type": "code",
   "execution_count": null,
   "outputs": [],
   "source": [],
   "metadata": {
    "collapsed": false
   },
   "id": "a0688a899e0845b4"
  }
 ],
 "metadata": {
  "kernelspec": {
   "display_name": "Python 3",
   "language": "python",
   "name": "python3"
  },
  "language_info": {
   "codemirror_mode": {
    "name": "ipython",
    "version": 2
   },
   "file_extension": ".py",
   "mimetype": "text/x-python",
   "name": "python",
   "nbconvert_exporter": "python",
   "pygments_lexer": "ipython2",
   "version": "2.7.6"
  }
 },
 "nbformat": 4,
 "nbformat_minor": 5
}
