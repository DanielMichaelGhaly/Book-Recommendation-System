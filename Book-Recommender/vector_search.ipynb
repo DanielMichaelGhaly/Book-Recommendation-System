{
 "cells": [
  {
   "cell_type": "code",
   "execution_count": 1,
   "id": "initial_id",
   "metadata": {
    "collapsed": true,
    "ExecuteTime": {
     "end_time": "2025-08-10T11:07:35.737756800Z",
     "start_time": "2025-08-10T11:07:29.805946800Z"
    }
   },
   "outputs": [],
   "source": [
    "from langchain_community.document_loaders import TextLoader\n",
    "from langchain_text_splitters import CharacterTextSplitter\n",
    "from langchain_openai import OpenAIEmbeddings\n",
    "from langchain_chroma import Chroma"
   ]
  },
  {
   "cell_type": "code",
   "execution_count": 3,
   "outputs": [
    {
     "data": {
      "text/plain": "True"
     },
     "execution_count": 3,
     "metadata": {},
     "output_type": "execute_result"
    }
   ],
   "source": [
    "from dotenv import load_dotenv\n",
    "\n",
    "load_dotenv()"
   ],
   "metadata": {
    "collapsed": false,
    "ExecuteTime": {
     "end_time": "2025-08-10T13:53:32.861641100Z",
     "start_time": "2025-08-10T13:53:32.846969900Z"
    }
   },
   "id": "9dccda4282a4bf83"
  },
  {
   "cell_type": "code",
   "execution_count": 4,
   "outputs": [],
   "source": [
    "import pandas as pd\n",
    "\n",
    "books = pd.read_csv(\"books_cleaned.csv\")"
   ],
   "metadata": {
    "collapsed": false,
    "ExecuteTime": {
     "end_time": "2025-08-10T13:54:03.636775700Z",
     "start_time": "2025-08-10T13:54:03.486490200Z"
    }
   },
   "id": "4b77f97ec492e307"
  },
  {
   "cell_type": "code",
   "execution_count": 5,
   "outputs": [
    {
     "data": {
      "text/plain": "             isbn13      isbn10  \\\n0     9780002005883  0002005883   \n1     9780002261982  0002261987   \n2     9780006178736  0006178731   \n3     9780006280897  0006280897   \n4     9780006280934  0006280935   \n...             ...         ...   \n5192  9788172235222  8172235224   \n5193  9788173031014  8173031010   \n5194  9788179921623  817992162X   \n5195  9788185300535  8185300534   \n5196  9789027712059  9027712050   \n\n                                                  title  \\\n0                                                Gilead   \n1                                          Spider's Web   \n2                                        Rage of angels   \n3                                        The Four Loves   \n4                                   The Problem of Pain   \n...                                                 ...   \n5192                                  Mistaken Identity   \n5193                                Journey to the East   \n5194  The Monk Who Sold His Ferrari: A Fable About F...   \n5195                                          I Am that   \n5196                           The Berlin Phenomenology   \n\n                                           authors  \\\n0                               Marilynne Robinson   \n1                  Charles Osborne;Agatha Christie   \n2                                   Sidney Sheldon   \n3                              Clive Staples Lewis   \n4                              Clive Staples Lewis   \n...                                            ...   \n5192                              Nayantara Sahgal   \n5193                                 Hermann Hesse   \n5194                                  Robin Sharma   \n5195  Sri Nisargadatta Maharaj;Sudhakar S. Dikshit   \n5196                 Georg Wilhelm Friedrich Hegel   \n\n                         categories  \\\n0                           Fiction   \n1     Detective and mystery stories   \n2                           Fiction   \n3                    Christian life   \n4                    Christian life   \n...                             ...   \n5192        Indic fiction (English)   \n5193              Adventure stories   \n5194               Health & Fitness   \n5195                     Philosophy   \n5196                        History   \n\n                                              thumbnail  \\\n0     http://books.google.com/books/content?id=KQZCP...   \n1     http://books.google.com/books/content?id=gA5GP...   \n2     http://books.google.com/books/content?id=FKo2T...   \n3     http://books.google.com/books/content?id=XhQ5X...   \n4     http://books.google.com/books/content?id=Kk-uV...   \n...                                                 ...   \n5192  http://books.google.com/books/content?id=q-tKP...   \n5193  http://books.google.com/books/content?id=rq6JP...   \n5194  http://books.google.com/books/content?id=c_7mf...   \n5195  http://books.google.com/books/content?id=Fv_JP...   \n5196  http://books.google.com/books/content?id=Vy7Sk...   \n\n                                            description  published_year  \\\n0     A NOVEL THAT READERS and critics have been eag...          2004.0   \n1     A new 'Christie for Christmas' -- a full-lengt...          2000.0   \n2     A memorable, mesmerizing heroine Jennifer -- b...          1993.0   \n3     Lewis' work on the nature of love divides love...          2002.0   \n4     \"In The Problem of Pain, C.S. Lewis, one of th...          2002.0   \n...                                                 ...             ...   \n5192  On A Train Journey Home To North India After L...          2003.0   \n5193  This book tells the tale of a man who goes on ...          2002.0   \n5194  Wisdom to Create a Life of Passion, Purpose, a...          2003.0   \n5195  This collection of the timeless teachings of o...          1999.0   \n5196  Since the three volume edition ofHegel's Philo...          1981.0   \n\n      average_rating  num_pages  ratings_count  age_of_book  \\\n0               3.85      247.0          361.0         21.0   \n1               3.83      241.0         5164.0         25.0   \n2               3.93      512.0        29532.0         32.0   \n3               4.15      170.0        33684.0         23.0   \n4               4.09      176.0        37569.0         23.0   \n...              ...        ...            ...          ...   \n5192            2.93      324.0            0.0         22.0   \n5193            3.70      175.0           24.0         23.0   \n5194            3.82      198.0         1568.0         22.0   \n5195            4.51      531.0          104.0         26.0   \n5196            0.00      210.0            0.0         44.0   \n\n                                     title_and_subtitle  \\\n0                                                Gilead   \n1                                 Spider's Web: A Novel   \n2                                        Rage of angels   \n3                                        The Four Loves   \n4                                   The Problem of Pain   \n...                                                 ...   \n5192                                  Mistaken Identity   \n5193                                Journey to the East   \n5194  The Monk Who Sold His Ferrari: A Fable About F...   \n5195     I Am that: Talks with Sri Nisargadatta Maharaj   \n5196                           The Berlin Phenomenology   \n\n                                     tagged_description  \n0     9780002005883 A NOVEL THAT READERS and critics...  \n1     9780002261982 A new 'Christie for Christmas' -...  \n2     9780006178736 A memorable, mesmerizing heroine...  \n3     9780006280897 Lewis' work on the nature of lov...  \n4     9780006280934 \"In The Problem of Pain, C.S. Le...  \n...                                                 ...  \n5192  9788172235222 On A Train Journey Home To North...  \n5193  9788173031014 This book tells the tale of a ma...  \n5194  9788179921623 Wisdom to Create a Life of Passi...  \n5195  9788185300535 This collection of the timeless ...  \n5196  9789027712059 Since the three volume edition o...  \n\n[5197 rows x 14 columns]",
      "text/html": "<div>\n<style scoped>\n    .dataframe tbody tr th:only-of-type {\n        vertical-align: middle;\n    }\n\n    .dataframe tbody tr th {\n        vertical-align: top;\n    }\n\n    .dataframe thead th {\n        text-align: right;\n    }\n</style>\n<table border=\"1\" class=\"dataframe\">\n  <thead>\n    <tr style=\"text-align: right;\">\n      <th></th>\n      <th>isbn13</th>\n      <th>isbn10</th>\n      <th>title</th>\n      <th>authors</th>\n      <th>categories</th>\n      <th>thumbnail</th>\n      <th>description</th>\n      <th>published_year</th>\n      <th>average_rating</th>\n      <th>num_pages</th>\n      <th>ratings_count</th>\n      <th>age_of_book</th>\n      <th>title_and_subtitle</th>\n      <th>tagged_description</th>\n    </tr>\n  </thead>\n  <tbody>\n    <tr>\n      <th>0</th>\n      <td>9780002005883</td>\n      <td>0002005883</td>\n      <td>Gilead</td>\n      <td>Marilynne Robinson</td>\n      <td>Fiction</td>\n      <td>http://books.google.com/books/content?id=KQZCP...</td>\n      <td>A NOVEL THAT READERS and critics have been eag...</td>\n      <td>2004.0</td>\n      <td>3.85</td>\n      <td>247.0</td>\n      <td>361.0</td>\n      <td>21.0</td>\n      <td>Gilead</td>\n      <td>9780002005883 A NOVEL THAT READERS and critics...</td>\n    </tr>\n    <tr>\n      <th>1</th>\n      <td>9780002261982</td>\n      <td>0002261987</td>\n      <td>Spider's Web</td>\n      <td>Charles Osborne;Agatha Christie</td>\n      <td>Detective and mystery stories</td>\n      <td>http://books.google.com/books/content?id=gA5GP...</td>\n      <td>A new 'Christie for Christmas' -- a full-lengt...</td>\n      <td>2000.0</td>\n      <td>3.83</td>\n      <td>241.0</td>\n      <td>5164.0</td>\n      <td>25.0</td>\n      <td>Spider's Web: A Novel</td>\n      <td>9780002261982 A new 'Christie for Christmas' -...</td>\n    </tr>\n    <tr>\n      <th>2</th>\n      <td>9780006178736</td>\n      <td>0006178731</td>\n      <td>Rage of angels</td>\n      <td>Sidney Sheldon</td>\n      <td>Fiction</td>\n      <td>http://books.google.com/books/content?id=FKo2T...</td>\n      <td>A memorable, mesmerizing heroine Jennifer -- b...</td>\n      <td>1993.0</td>\n      <td>3.93</td>\n      <td>512.0</td>\n      <td>29532.0</td>\n      <td>32.0</td>\n      <td>Rage of angels</td>\n      <td>9780006178736 A memorable, mesmerizing heroine...</td>\n    </tr>\n    <tr>\n      <th>3</th>\n      <td>9780006280897</td>\n      <td>0006280897</td>\n      <td>The Four Loves</td>\n      <td>Clive Staples Lewis</td>\n      <td>Christian life</td>\n      <td>http://books.google.com/books/content?id=XhQ5X...</td>\n      <td>Lewis' work on the nature of love divides love...</td>\n      <td>2002.0</td>\n      <td>4.15</td>\n      <td>170.0</td>\n      <td>33684.0</td>\n      <td>23.0</td>\n      <td>The Four Loves</td>\n      <td>9780006280897 Lewis' work on the nature of lov...</td>\n    </tr>\n    <tr>\n      <th>4</th>\n      <td>9780006280934</td>\n      <td>0006280935</td>\n      <td>The Problem of Pain</td>\n      <td>Clive Staples Lewis</td>\n      <td>Christian life</td>\n      <td>http://books.google.com/books/content?id=Kk-uV...</td>\n      <td>\"In The Problem of Pain, C.S. Lewis, one of th...</td>\n      <td>2002.0</td>\n      <td>4.09</td>\n      <td>176.0</td>\n      <td>37569.0</td>\n      <td>23.0</td>\n      <td>The Problem of Pain</td>\n      <td>9780006280934 \"In The Problem of Pain, C.S. Le...</td>\n    </tr>\n    <tr>\n      <th>...</th>\n      <td>...</td>\n      <td>...</td>\n      <td>...</td>\n      <td>...</td>\n      <td>...</td>\n      <td>...</td>\n      <td>...</td>\n      <td>...</td>\n      <td>...</td>\n      <td>...</td>\n      <td>...</td>\n      <td>...</td>\n      <td>...</td>\n      <td>...</td>\n    </tr>\n    <tr>\n      <th>5192</th>\n      <td>9788172235222</td>\n      <td>8172235224</td>\n      <td>Mistaken Identity</td>\n      <td>Nayantara Sahgal</td>\n      <td>Indic fiction (English)</td>\n      <td>http://books.google.com/books/content?id=q-tKP...</td>\n      <td>On A Train Journey Home To North India After L...</td>\n      <td>2003.0</td>\n      <td>2.93</td>\n      <td>324.0</td>\n      <td>0.0</td>\n      <td>22.0</td>\n      <td>Mistaken Identity</td>\n      <td>9788172235222 On A Train Journey Home To North...</td>\n    </tr>\n    <tr>\n      <th>5193</th>\n      <td>9788173031014</td>\n      <td>8173031010</td>\n      <td>Journey to the East</td>\n      <td>Hermann Hesse</td>\n      <td>Adventure stories</td>\n      <td>http://books.google.com/books/content?id=rq6JP...</td>\n      <td>This book tells the tale of a man who goes on ...</td>\n      <td>2002.0</td>\n      <td>3.70</td>\n      <td>175.0</td>\n      <td>24.0</td>\n      <td>23.0</td>\n      <td>Journey to the East</td>\n      <td>9788173031014 This book tells the tale of a ma...</td>\n    </tr>\n    <tr>\n      <th>5194</th>\n      <td>9788179921623</td>\n      <td>817992162X</td>\n      <td>The Monk Who Sold His Ferrari: A Fable About F...</td>\n      <td>Robin Sharma</td>\n      <td>Health &amp; Fitness</td>\n      <td>http://books.google.com/books/content?id=c_7mf...</td>\n      <td>Wisdom to Create a Life of Passion, Purpose, a...</td>\n      <td>2003.0</td>\n      <td>3.82</td>\n      <td>198.0</td>\n      <td>1568.0</td>\n      <td>22.0</td>\n      <td>The Monk Who Sold His Ferrari: A Fable About F...</td>\n      <td>9788179921623 Wisdom to Create a Life of Passi...</td>\n    </tr>\n    <tr>\n      <th>5195</th>\n      <td>9788185300535</td>\n      <td>8185300534</td>\n      <td>I Am that</td>\n      <td>Sri Nisargadatta Maharaj;Sudhakar S. Dikshit</td>\n      <td>Philosophy</td>\n      <td>http://books.google.com/books/content?id=Fv_JP...</td>\n      <td>This collection of the timeless teachings of o...</td>\n      <td>1999.0</td>\n      <td>4.51</td>\n      <td>531.0</td>\n      <td>104.0</td>\n      <td>26.0</td>\n      <td>I Am that: Talks with Sri Nisargadatta Maharaj</td>\n      <td>9788185300535 This collection of the timeless ...</td>\n    </tr>\n    <tr>\n      <th>5196</th>\n      <td>9789027712059</td>\n      <td>9027712050</td>\n      <td>The Berlin Phenomenology</td>\n      <td>Georg Wilhelm Friedrich Hegel</td>\n      <td>History</td>\n      <td>http://books.google.com/books/content?id=Vy7Sk...</td>\n      <td>Since the three volume edition ofHegel's Philo...</td>\n      <td>1981.0</td>\n      <td>0.00</td>\n      <td>210.0</td>\n      <td>0.0</td>\n      <td>44.0</td>\n      <td>The Berlin Phenomenology</td>\n      <td>9789027712059 Since the three volume edition o...</td>\n    </tr>\n  </tbody>\n</table>\n<p>5197 rows × 14 columns</p>\n</div>"
     },
     "execution_count": 5,
     "metadata": {},
     "output_type": "execute_result"
    }
   ],
   "source": [
    "books"
   ],
   "metadata": {
    "collapsed": false,
    "ExecuteTime": {
     "end_time": "2025-08-10T13:54:06.883019Z",
     "start_time": "2025-08-10T13:54:06.850531400Z"
    }
   },
   "id": "19ee0699b8f9512c"
  },
  {
   "cell_type": "code",
   "execution_count": 6,
   "outputs": [
    {
     "data": {
      "text/plain": "0       9780002005883 A NOVEL THAT READERS and critics...\n1       9780002261982 A new 'Christie for Christmas' -...\n2       9780006178736 A memorable, mesmerizing heroine...\n3       9780006280897 Lewis' work on the nature of lov...\n4       9780006280934 \"In The Problem of Pain, C.S. Le...\n                              ...                        \n5192    9788172235222 On A Train Journey Home To North...\n5193    9788173031014 This book tells the tale of a ma...\n5194    9788179921623 Wisdom to Create a Life of Passi...\n5195    9788185300535 This collection of the timeless ...\n5196    9789027712059 Since the three volume edition o...\nName: tagged_description, Length: 5197, dtype: object"
     },
     "execution_count": 6,
     "metadata": {},
     "output_type": "execute_result"
    }
   ],
   "source": [
    "books[\"tagged_description\"]"
   ],
   "metadata": {
    "collapsed": false,
    "ExecuteTime": {
     "end_time": "2025-08-10T13:54:48.792155Z",
     "start_time": "2025-08-10T13:54:48.722267100Z"
    }
   },
   "id": "c5fae79e36bed3f2"
  },
  {
   "cell_type": "code",
   "execution_count": 7,
   "outputs": [],
   "source": [
    "books[\"tagged_description\"].to_csv(\"tagged_description.txt\",\n",
    "                                   sep = \"\\n\",\n",
    "                                   index = False,\n",
    "                                   header = False)"
   ],
   "metadata": {
    "collapsed": false,
    "ExecuteTime": {
     "end_time": "2025-08-10T13:55:50.460654900Z",
     "start_time": "2025-08-10T13:55:50.339836700Z"
    }
   },
   "id": "bdb73072d0c565a1"
  },
  {
   "cell_type": "code",
   "execution_count": null,
   "outputs": [],
   "source": [
    "\n"
   ],
   "metadata": {
    "collapsed": false
   },
   "id": "149bc781e3f3f22e"
  }
 ],
 "metadata": {
  "kernelspec": {
   "display_name": "Python 3",
   "language": "python",
   "name": "python3"
  },
  "language_info": {
   "codemirror_mode": {
    "name": "ipython",
    "version": 2
   },
   "file_extension": ".py",
   "mimetype": "text/x-python",
   "name": "python",
   "nbconvert_exporter": "python",
   "pygments_lexer": "ipython2",
   "version": "2.7.6"
  }
 },
 "nbformat": 4,
 "nbformat_minor": 5
}
